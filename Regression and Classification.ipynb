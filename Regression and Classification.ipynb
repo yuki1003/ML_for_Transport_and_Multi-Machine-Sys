{
 "cells": [
  {
   "cell_type": "markdown",
   "metadata": {},
   "source": [
    "### To do:\n",
    "- delete month + distance variables\n",
    "- validate model\n",
    "- change weekend to friday 20:00 in data preparation\n",
    "-"
   ]
  },
  {
   "cell_type": "code",
   "execution_count": 98,
   "metadata": {},
   "outputs": [],
   "source": [
    "\"\"\"\n",
    "Authors:\n",
    "Group:\n",
    "Description: this file will be used for clustering\n",
    "\"\"\"\n",
    "\n",
    "import pandas as pd\n",
    "import matplotlib.pyplot as plt\n",
    "import numpy as np\n",
    "import datetime as datetime\n",
    "import pyarrow.parquet as pq\n",
    "import seaborn as sb\n",
    "from sklearn.cluster import KMeans \n",
    "import os\n",
    "from sklearn.ensemble import RandomForestRegressor\n",
    "from sklearn.metrics import accuracy_score, confusion_matrix, classification_report\n",
    "import lightgbm as lgbm\n",
    "import xgboost as xgb\n",
    "from sklearn.metrics import r2_score\n",
    "from sklearn.metrics import mean_squared_error\n",
    "#from sklearn import cluster\n",
    "from numpy import mean\n",
    "from numpy import std\n",
    "from sklearn.datasets import make_classification\n",
    "from sklearn.model_selection import cross_val_score\n",
    "from sklearn.model_selection import RepeatedStratifiedKFold\n",
    "from lightgbm import LGBMClassifier\n",
    "from matplotlib import pyplot"
   ]
  },
  {
   "cell_type": "code",
   "execution_count": 32,
   "metadata": {},
   "outputs": [],
   "source": [
    "from sklearn import metrics\n",
    "from sklearn.ensemble import GradientBoostingRegressor"
   ]
  },
  {
   "cell_type": "code",
   "execution_count": 48,
   "metadata": {},
   "outputs": [],
   "source": [
    "import seaborn as sns"
   ]
  },
  {
   "cell_type": "code",
   "execution_count": 2,
   "metadata": {},
   "outputs": [],
   "source": [
    "#import data\n",
    "pq_taxi = pq.read_table(\"yellow_tripdata_processed.parquet\")\n",
    "df_taxi = pq_taxi.to_pandas()"
   ]
  },
  {
   "cell_type": "markdown",
   "metadata": {},
   "source": [
    "Predict:\n",
    "    - fare amount\n",
    "    - trip duration\n",
    "   \n",
    "   \n",
    "  - Attributes need to be numerical \n",
    "  - We need the year, month, date, day of week, hour etc. \n",
    "  - dropoff_longitude & dropoff_latitude (or code the zone's?) --> better to work with latitude and longitude. Coding the zone's will be very confusing as there are many zone's. \n",
    "  \n",
    "  \n",
    "  Columns:\n",
    "  - pickup_longitude\n",
    "  - pickup_latitude\n",
    "  - dropoff_longitude\n",
    "  - dropoff_latitude\n",
    "  - passenger count\n",
    "  - year\n",
    "  - month\n",
    "  - date\n",
    "  - day of week\n",
    "  - hour\n",
    "  - distance\n",
    "  \n",
    "  (['fare_amount', 'pickup_longitude', 'pickup_latitude',\n",
    "       'dropoff_longitude', 'dropoff_latitude', 'passenger_count',\n",
    "       'H_Distance', 'Year', 'Month', 'Date', 'Day of Week', 'Hour'],"
   ]
  },
  {
   "cell_type": "code",
   "execution_count": 4,
   "metadata": {},
   "outputs": [
    {
     "data": {
      "text/html": [
       "<div>\n",
       "<style scoped>\n",
       "    .dataframe tbody tr th:only-of-type {\n",
       "        vertical-align: middle;\n",
       "    }\n",
       "\n",
       "    .dataframe tbody tr th {\n",
       "        vertical-align: top;\n",
       "    }\n",
       "\n",
       "    .dataframe thead th {\n",
       "        text-align: right;\n",
       "    }\n",
       "</style>\n",
       "<table border=\"1\" class=\"dataframe\">\n",
       "  <thead>\n",
       "    <tr style=\"text-align: right;\">\n",
       "      <th></th>\n",
       "      <th>tpep_pickup_datetime</th>\n",
       "      <th>tpep_dropoff_datetime</th>\n",
       "      <th>passenger_count</th>\n",
       "      <th>trip_distance</th>\n",
       "      <th>RatecodeID</th>\n",
       "      <th>PULocationID</th>\n",
       "      <th>DOLocationID</th>\n",
       "      <th>fare_amount</th>\n",
       "      <th>tip_amount</th>\n",
       "      <th>total_amount</th>\n",
       "      <th>...</th>\n",
       "      <th>pickup_time</th>\n",
       "      <th>dropoff_time</th>\n",
       "      <th>trip_duration_seconds</th>\n",
       "      <th>trip_duration_minutes</th>\n",
       "      <th>pickup_hour</th>\n",
       "      <th>pickup_month</th>\n",
       "      <th>pickup_day_no</th>\n",
       "      <th>day_of_week</th>\n",
       "      <th>pickup_zone</th>\n",
       "      <th>dropoff_zone</th>\n",
       "    </tr>\n",
       "  </thead>\n",
       "  <tbody>\n",
       "    <tr>\n",
       "      <th>0</th>\n",
       "      <td>2022-03-01 00:13:08</td>\n",
       "      <td>2022-03-01 00:24:35</td>\n",
       "      <td>1.0</td>\n",
       "      <td>2.40</td>\n",
       "      <td>1.0</td>\n",
       "      <td>90</td>\n",
       "      <td>209</td>\n",
       "      <td>10.0</td>\n",
       "      <td>0.00</td>\n",
       "      <td>13.80</td>\n",
       "      <td>...</td>\n",
       "      <td>00:13:08</td>\n",
       "      <td>00:24:35</td>\n",
       "      <td>687.0</td>\n",
       "      <td>11.0</td>\n",
       "      <td>0</td>\n",
       "      <td>3</td>\n",
       "      <td>1</td>\n",
       "      <td>Weekday</td>\n",
       "      <td>Flatiron</td>\n",
       "      <td>Seaport</td>\n",
       "    </tr>\n",
       "    <tr>\n",
       "      <th>1</th>\n",
       "      <td>2022-03-01 00:47:52</td>\n",
       "      <td>2022-03-01 01:00:08</td>\n",
       "      <td>1.0</td>\n",
       "      <td>2.20</td>\n",
       "      <td>1.0</td>\n",
       "      <td>148</td>\n",
       "      <td>234</td>\n",
       "      <td>10.5</td>\n",
       "      <td>0.00</td>\n",
       "      <td>14.30</td>\n",
       "      <td>...</td>\n",
       "      <td>00:47:52</td>\n",
       "      <td>01:00:08</td>\n",
       "      <td>736.0</td>\n",
       "      <td>12.0</td>\n",
       "      <td>0</td>\n",
       "      <td>3</td>\n",
       "      <td>1</td>\n",
       "      <td>Weekday</td>\n",
       "      <td>Lower East Side</td>\n",
       "      <td>Union Sq</td>\n",
       "    </tr>\n",
       "    <tr>\n",
       "      <th>2</th>\n",
       "      <td>2022-03-01 00:02:46</td>\n",
       "      <td>2022-03-01 00:46:43</td>\n",
       "      <td>1.0</td>\n",
       "      <td>19.78</td>\n",
       "      <td>2.0</td>\n",
       "      <td>132</td>\n",
       "      <td>249</td>\n",
       "      <td>52.0</td>\n",
       "      <td>11.06</td>\n",
       "      <td>67.61</td>\n",
       "      <td>...</td>\n",
       "      <td>00:02:46</td>\n",
       "      <td>00:46:43</td>\n",
       "      <td>2637.0</td>\n",
       "      <td>43.0</td>\n",
       "      <td>0</td>\n",
       "      <td>3</td>\n",
       "      <td>1</td>\n",
       "      <td>Weekday</td>\n",
       "      <td>JFK Airport</td>\n",
       "      <td>West Village</td>\n",
       "    </tr>\n",
       "    <tr>\n",
       "      <th>3</th>\n",
       "      <td>2022-03-01 00:52:43</td>\n",
       "      <td>2022-03-01 01:03:40</td>\n",
       "      <td>2.0</td>\n",
       "      <td>2.94</td>\n",
       "      <td>1.0</td>\n",
       "      <td>211</td>\n",
       "      <td>66</td>\n",
       "      <td>11.0</td>\n",
       "      <td>4.44</td>\n",
       "      <td>19.24</td>\n",
       "      <td>...</td>\n",
       "      <td>00:52:43</td>\n",
       "      <td>01:03:40</td>\n",
       "      <td>657.0</td>\n",
       "      <td>10.0</td>\n",
       "      <td>0</td>\n",
       "      <td>3</td>\n",
       "      <td>1</td>\n",
       "      <td>Weekday</td>\n",
       "      <td>SoHo</td>\n",
       "      <td>DUMBO/Vinegar Hill</td>\n",
       "    </tr>\n",
       "    <tr>\n",
       "      <th>4</th>\n",
       "      <td>2022-03-01 00:15:35</td>\n",
       "      <td>2022-03-01 00:34:13</td>\n",
       "      <td>1.0</td>\n",
       "      <td>8.57</td>\n",
       "      <td>1.0</td>\n",
       "      <td>138</td>\n",
       "      <td>197</td>\n",
       "      <td>25.0</td>\n",
       "      <td>5.51</td>\n",
       "      <td>33.06</td>\n",
       "      <td>...</td>\n",
       "      <td>00:15:35</td>\n",
       "      <td>00:34:13</td>\n",
       "      <td>1118.0</td>\n",
       "      <td>18.0</td>\n",
       "      <td>0</td>\n",
       "      <td>3</td>\n",
       "      <td>1</td>\n",
       "      <td>Weekday</td>\n",
       "      <td>LaGuardia Airport</td>\n",
       "      <td>Richmond Hill</td>\n",
       "    </tr>\n",
       "  </tbody>\n",
       "</table>\n",
       "<p>5 rows × 23 columns</p>\n",
       "</div>"
      ],
      "text/plain": [
       "  tpep_pickup_datetime tpep_dropoff_datetime  passenger_count  trip_distance  \\\n",
       "0  2022-03-01 00:13:08   2022-03-01 00:24:35              1.0           2.40   \n",
       "1  2022-03-01 00:47:52   2022-03-01 01:00:08              1.0           2.20   \n",
       "2  2022-03-01 00:02:46   2022-03-01 00:46:43              1.0          19.78   \n",
       "3  2022-03-01 00:52:43   2022-03-01 01:03:40              2.0           2.94   \n",
       "4  2022-03-01 00:15:35   2022-03-01 00:34:13              1.0           8.57   \n",
       "\n",
       "   RatecodeID  PULocationID  DOLocationID  fare_amount  tip_amount  \\\n",
       "0         1.0            90           209         10.0        0.00   \n",
       "1         1.0           148           234         10.5        0.00   \n",
       "2         2.0           132           249         52.0       11.06   \n",
       "3         1.0           211            66         11.0        4.44   \n",
       "4         1.0           138           197         25.0        5.51   \n",
       "\n",
       "   total_amount  ...  pickup_time dropoff_time trip_duration_seconds  \\\n",
       "0         13.80  ...     00:13:08     00:24:35                 687.0   \n",
       "1         14.30  ...     00:47:52     01:00:08                 736.0   \n",
       "2         67.61  ...     00:02:46     00:46:43                2637.0   \n",
       "3         19.24  ...     00:52:43     01:03:40                 657.0   \n",
       "4         33.06  ...     00:15:35     00:34:13                1118.0   \n",
       "\n",
       "  trip_duration_minutes pickup_hour  pickup_month  pickup_day_no  day_of_week  \\\n",
       "0                  11.0           0             3              1      Weekday   \n",
       "1                  12.0           0             3              1      Weekday   \n",
       "2                  43.0           0             3              1      Weekday   \n",
       "3                  10.0           0             3              1      Weekday   \n",
       "4                  18.0           0             3              1      Weekday   \n",
       "\n",
       "         pickup_zone        dropoff_zone  \n",
       "0           Flatiron             Seaport  \n",
       "1    Lower East Side            Union Sq  \n",
       "2        JFK Airport        West Village  \n",
       "3               SoHo  DUMBO/Vinegar Hill  \n",
       "4  LaGuardia Airport       Richmond Hill  \n",
       "\n",
       "[5 rows x 23 columns]"
      ]
     },
     "execution_count": 4,
     "metadata": {},
     "output_type": "execute_result"
    }
   ],
   "source": [
    "df_taxi.head()"
   ]
  },
  {
   "cell_type": "code",
   "execution_count": 5,
   "metadata": {
    "scrolled": true
   },
   "outputs": [
    {
     "data": {
      "text/plain": [
       "Index(['tpep_pickup_datetime', 'tpep_dropoff_datetime', 'passenger_count',\n",
       "       'trip_distance', 'RatecodeID', 'PULocationID', 'DOLocationID',\n",
       "       'fare_amount', 'tip_amount', 'total_amount', 'tip_percent',\n",
       "       'pickup_date', 'dropoff_date', 'pickup_time', 'dropoff_time',\n",
       "       'trip_duration_seconds', 'trip_duration_minutes', 'pickup_hour',\n",
       "       'pickup_month', 'pickup_day_no', 'day_of_week', 'pickup_zone',\n",
       "       'dropoff_zone'],\n",
       "      dtype='object')"
      ]
     },
     "execution_count": 5,
     "metadata": {},
     "output_type": "execute_result"
    }
   ],
   "source": [
    "df_taxi.columns"
   ]
  },
  {
   "cell_type": "code",
   "execution_count": 6,
   "metadata": {},
   "outputs": [
    {
     "data": {
      "text/plain": [
       "tpep_pickup_datetime     datetime64[ns]\n",
       "tpep_dropoff_datetime    datetime64[ns]\n",
       "passenger_count                 float64\n",
       "trip_distance                   float64\n",
       "RatecodeID                      float64\n",
       "PULocationID                      int64\n",
       "DOLocationID                      int64\n",
       "fare_amount                     float64\n",
       "tip_amount                      float64\n",
       "total_amount                    float64\n",
       "tip_percent                     float64\n",
       "pickup_date                      object\n",
       "dropoff_date                     object\n",
       "pickup_time                      object\n",
       "dropoff_time                     object\n",
       "trip_duration_seconds           float64\n",
       "trip_duration_minutes           float64\n",
       "pickup_hour                       int64\n",
       "pickup_month                      int64\n",
       "pickup_day_no                     int64\n",
       "day_of_week                      object\n",
       "pickup_zone                      object\n",
       "dropoff_zone                     object\n",
       "dtype: object"
      ]
     },
     "execution_count": 6,
     "metadata": {},
     "output_type": "execute_result"
    }
   ],
   "source": [
    "df_taxi.dtypes"
   ]
  },
  {
   "cell_type": "code",
   "execution_count": 7,
   "metadata": {},
   "outputs": [
    {
     "data": {
      "text/plain": [
       "3294499"
      ]
     },
     "execution_count": 7,
     "metadata": {},
     "output_type": "execute_result"
    }
   ],
   "source": [
    "len(df_taxi)"
   ]
  },
  {
   "cell_type": "code",
   "execution_count": 8,
   "metadata": {},
   "outputs": [
    {
     "data": {
      "text/plain": [
       "10000"
      ]
     },
     "execution_count": 8,
     "metadata": {},
     "output_type": "execute_result"
    }
   ],
   "source": [
    "#first try for smaller dataset\n",
    "df_taxi_sampled = df_taxi.sample(n=10000)\n",
    "len(df_taxi_sampled)"
   ]
  },
  {
   "cell_type": "markdown",
   "metadata": {},
   "source": [
    "## Correlation"
   ]
  },
  {
   "cell_type": "code",
   "execution_count": 52,
   "metadata": {},
   "outputs": [
    {
     "data": {
      "image/png": "[encoded data removed]",
      "text/plain": [
       "<Figure size 1152x360 with 2 Axes>"
      ]
     },
     "metadata": {
      "needs_background": "light"
     },
     "output_type": "display_data"
    }
   ],
   "source": [
    "col = ['trip_distance', 'passenger_count' ,'fare_amount', 'tip_amount', 'total_amount', 'trip_duration_minutes', 'pickup_day_no', 'pickup_month', 'pickup_hour', 'total_amount']\n",
    "#label = ['Distance', 'Fare', 'Tip', 'Total$', 'Duration', '', '']\n",
    "\n",
    "# plot correlation plot\n",
    "fig, ax = plt.subplots(figsize=(16, 5))\n",
    "corr_matrix = df_taxi.corr()\n",
    "sns.heatmap(corr_matrix, annot=True, ax=ax)\n",
    "ax.set_title(\"Correlation Between Continuous Attributes\")\n",
    "plt.show()"
   ]
  },
  {
   "cell_type": "markdown",
   "metadata": {},
   "source": [
    "## Regression models"
   ]
  },
  {
   "cell_type": "code",
   "execution_count": 16,
   "metadata": {},
   "outputs": [],
   "source": [
    "#select only the necessary columns as X\n",
    "#Datetime not included, due to dtype\n",
    "X = df_taxi_sampled[[\"PULocationID\", \"DOLocationID\", \"trip_distance\", \"passenger_count\",\"fare_amount\",\"tip_amount\",\"trip_duration_minutes\",\"pickup_day_no\",\"pickup_month\",\"pickup_hour\",]]"
   ]
  },
  {
   "cell_type": "code",
   "execution_count": 10,
   "metadata": {},
   "outputs": [
    {
     "data": {
      "text/plain": [
       "PULocationID                      int64\n",
       "DOLocationID                      int64\n",
       "trip_distance                   float64\n",
       "passenger_count                 float64\n",
       "fare_amount                     float64\n",
       "tip_amount                      float64\n",
       "trip_duration_minutes           float64\n",
       "pickup_day_no                     int64\n",
       "pickup_month                      int64\n",
       "pickup_hour                       int64\n",
       "tpep_pickup_datetime     datetime64[ns]\n",
       "dtype: object"
      ]
     },
     "execution_count": 10,
     "metadata": {},
     "output_type": "execute_result"
    }
   ],
   "source": [
    "X.dtypes"
   ]
  },
  {
   "cell_type": "code",
   "execution_count": 11,
   "metadata": {},
   "outputs": [],
   "source": [
    "y = df_taxi_sampled[\"total_amount\"]"
   ]
  },
  {
   "cell_type": "code",
   "execution_count": 12,
   "metadata": {},
   "outputs": [
    {
     "data": {
      "text/plain": [
       "dtype('float64')"
      ]
     },
     "execution_count": 12,
     "metadata": {},
     "output_type": "execute_result"
    }
   ],
   "source": [
    "y.dtype"
   ]
  },
  {
   "cell_type": "code",
   "execution_count": 17,
   "metadata": {},
   "outputs": [],
   "source": [
    "from sklearn.model_selection import train_test_split\n",
    "X_train, X_test, y_train, y_test = train_test_split(X, y, test_size=0.2, random_state=25)"
   ]
  },
  {
   "cell_type": "code",
   "execution_count": 18,
   "metadata": {},
   "outputs": [
    {
     "data": {
      "text/plain": [
       "Index(['PULocationID', 'DOLocationID', 'trip_distance', 'passenger_count',\n",
       "       'fare_amount', 'tip_amount', 'trip_duration_minutes', 'pickup_day_no',\n",
       "       'pickup_month', 'pickup_hour'],\n",
       "      dtype='object')"
      ]
     },
     "execution_count": 18,
     "metadata": {},
     "output_type": "execute_result"
    }
   ],
   "source": [
    "X_train.columns"
   ]
  },
  {
   "cell_type": "markdown",
   "metadata": {},
   "source": [
    "### Random forest prediction"
   ]
  },
  {
   "cell_type": "code",
   "execution_count": 19,
   "metadata": {},
   "outputs": [],
   "source": [
    "rf = RandomForestRegressor()\n",
    "rf.fit(X_train, y_train)\n",
    "rf_predict = rf.predict(X_test)"
   ]
  },
  {
   "cell_type": "code",
   "execution_count": 20,
   "metadata": {},
   "outputs": [
    {
     "name": "stdout",
     "output_type": "stream",
     "text": [
      "[13.56   25.3215  9.9382 ... 20.1564 11.4599 24.3639]\n"
     ]
    }
   ],
   "source": [
    "print(rf_predict)"
   ]
  },
  {
   "cell_type": "code",
   "execution_count": 22,
   "metadata": {},
   "outputs": [
    {
     "data": {
      "text/plain": [
       "0.992618181396748"
      ]
     },
     "execution_count": 22,
     "metadata": {},
     "output_type": "execute_result"
    }
   ],
   "source": [
    "rf.score(X_test, y_test)"
   ]
  },
  {
   "cell_type": "markdown",
   "metadata": {},
   "source": [
    "### Gradiënt boosting with LightGBM"
   ]
  },
  {
   "cell_type": "code",
   "execution_count": 24,
   "metadata": {},
   "outputs": [],
   "source": [
    "params = {\n",
    "        'boosting_type':'gbdt',\n",
    "        'objective': 'regression',\n",
    "        'nthread': -1,\n",
    "        'verbose': 0,\n",
    "        'num_leaves': 31,\n",
    "        'learning_rate': 0.05,\n",
    "        'max_depth': -1,\n",
    "        'subsample': 0.8,\n",
    "        'subsample_freq': 1,\n",
    "        'colsample_bytree': 0.6,\n",
    "        'reg_aplha': 1,\n",
    "        'reg_lambda': 0.001,\n",
    "        'metric': 'rmse',\n",
    "        'min_split_gain': 0.5,\n",
    "        'min_child_weight': 1,\n",
    "        'min_child_samples': 10,\n",
    "        'scale_pos_weight':1     \n",
    "    }"
   ]
  },
  {
   "cell_type": "code",
   "execution_count": 25,
   "metadata": {},
   "outputs": [
    {
     "data": {
      "text/plain": [
       "(2000,)"
      ]
     },
     "execution_count": 25,
     "metadata": {},
     "output_type": "execute_result"
    }
   ],
   "source": [
    "pred_test_y = np.zeros(X_test.shape[0])\n",
    "pred_test_y.shape"
   ]
  },
  {
   "cell_type": "code",
   "execution_count": 26,
   "metadata": {},
   "outputs": [
    {
     "data": {
      "text/plain": [
       "<lightgbm.basic.Dataset at 0x1c0ebdbf8d0>"
      ]
     },
     "execution_count": 26,
     "metadata": {},
     "output_type": "execute_result"
    }
   ],
   "source": [
    "train_set = lgbm.Dataset(X_train, y_train, silent=True)\n",
    "train_set"
   ]
  },
  {
   "cell_type": "code",
   "execution_count": 27,
   "metadata": {},
   "outputs": [
    {
     "name": "stdout",
     "output_type": "stream",
     "text": [
      "[LightGBM] [Warning] Unknown parameter: reg_aplha\n",
      "[LightGBM] [Warning] Unknown parameter: reg_aplha\n",
      "[LightGBM] [Warning] Auto-choosing row-wise multi-threading, the overhead of testing was 0.000337 seconds.\n",
      "You can set `force_row_wise=true` to remove the overhead.\n",
      "And if memory is not enough, you can set `force_col_wise=true`.\n"
     ]
    },
    {
     "name": "stderr",
     "output_type": "stream",
     "text": [
      "C:\\Users\\Daphne\\Anaconda3\\lib\\site-packages\\lightgbm\\basic.py:1491: UserWarning: 'silent' argument is deprecated and will be removed in a future release of LightGBM. Pass 'verbose' parameter via 'params' instead.\n",
      "  _log_warning(\"'silent' argument is deprecated and will be removed in a future release of LightGBM. \"\n"
     ]
    }
   ],
   "source": [
    "#reset to 300 boosting rounds\n",
    "model = lgbm.train(params, train_set = train_set, num_boost_round=50)"
   ]
  },
  {
   "cell_type": "code",
   "execution_count": 28,
   "metadata": {},
   "outputs": [],
   "source": [
    "pred_test_y = model.predict(X_test, num_iteration = model.best_iteration)"
   ]
  },
  {
   "cell_type": "code",
   "execution_count": 29,
   "metadata": {},
   "outputs": [
    {
     "name": "stdout",
     "output_type": "stream",
     "text": [
      "[14.08227492 25.59408855 11.21054241 ... 20.02795037 12.31467793\n",
      " 24.21225963]\n"
     ]
    }
   ],
   "source": [
    "print(pred_test_y)"
   ]
  },
  {
   "cell_type": "code",
   "execution_count": 42,
   "metadata": {},
   "outputs": [
    {
     "name": "stdout",
     "output_type": "stream",
     "text": [
      "Gradient Boost Regression\n",
      "Train RMSE: 0.9761781460231322\n",
      "Test RMSE: 1.2346828627443112\n",
      "Train R2 0.9950983939778293\n",
      "Test R2 0.9925422327981775\n"
     ]
    }
   ],
   "source": [
    "# ALTERNATIVE MODEL?\n",
    "\n",
    "# fit the model\n",
    "reg = GradientBoostingRegressor(random_state=0)\n",
    "reg.fit(X_train, y_train)\n",
    "# predict and evaluate\n",
    "\n",
    "gbr_train_pred = reg.predict(X_train)\n",
    "gbr_test_pred = reg.predict(X_test)\n",
    "train_rmse = mean_squared_error(y_train, gbr_train_pred, squared=False)\n",
    "test_rmse = mean_squared_error(y_test, gbr_test_pred, squared=False)\n",
    "train_r2 = r2_score(y_train, gbr_train_pred)\n",
    "test_r2 = r2_score(y_test, gbr_test_pred)\n",
    "\n",
    "print(\"Gradient Boost Regression\")\n",
    "print(\"Train RMSE:\", train_rmse)\n",
    "print(\"Test RMSE:\", test_rmse)\n",
    "print(\"Train R2\", train_r2)\n",
    "print(\"Test R2\", test_r2)"
   ]
  },
  {
   "cell_type": "code",
   "execution_count": 43,
   "metadata": {},
   "outputs": [
    {
     "data": {
      "text/plain": [
       "array([5.12610361e-04, 1.81155984e-04, 1.12433962e-01, 0.00000000e+00,\n",
       "       8.39641990e-01, 4.62776665e-02, 1.83845198e-04, 1.88249231e-04,\n",
       "       0.00000000e+00, 5.80520681e-04])"
      ]
     },
     "execution_count": 43,
     "metadata": {},
     "output_type": "execute_result"
    }
   ],
   "source": [
    "reg.feature_importances_"
   ]
  },
  {
   "cell_type": "markdown",
   "metadata": {},
   "source": [
    "### Gradiënt boosting with XGBoost"
   ]
  },
  {
   "cell_type": "code",
   "execution_count": 34,
   "metadata": {},
   "outputs": [],
   "source": [
    "#!pip install xgboost"
   ]
  },
  {
   "cell_type": "code",
   "execution_count": 36,
   "metadata": {},
   "outputs": [
    {
     "name": "stdout",
     "output_type": "stream",
     "text": [
      "[13:44:49] WARNING: C:/Users/Administrator/workspace/xgboost-win64_release_1.6.0/src/learner.cc:627: \n",
      "Parameters: { \"n_estimators\", \"silent\" } might not be used.\n",
      "\n",
      "  This could be a false alarm, with some parameters getting used by language bindings but\n",
      "  then being mistakenly passed down to XGBoost core, or some parameter actually being used\n",
      "  but getting flagged wrongly here. Please open an issue if you find any such cases.\n",
      "\n",
      "\n",
      "[0]\ttrain-rmse:22.67050\tvalid-rmse:23.09304\n"
     ]
    },
    {
     "name": "stderr",
     "output_type": "stream",
     "text": [
      "C:\\Users\\Daphne\\Anaconda3\\lib\\site-packages\\xgboost\\core.py:528: FutureWarning: Pass `evals` as keyword args.  Passing these as positional arguments will be considered as error in future releases.\n",
      "  format(\", \".join(args_msg)), FutureWarning\n"
     ]
    },
    {
     "name": "stdout",
     "output_type": "stream",
     "text": [
      "[50]\ttrain-rmse:2.10901\tvalid-rmse:2.32612\n",
      "[100]\ttrain-rmse:0.49400\tvalid-rmse:1.12713\n",
      "[150]\ttrain-rmse:0.29331\tvalid-rmse:1.07660\n",
      "[200]\ttrain-rmse:0.22334\tvalid-rmse:1.07020\n",
      "[250]\ttrain-rmse:0.17742\tvalid-rmse:1.06559\n",
      "[300]\ttrain-rmse:0.13802\tvalid-rmse:1.06270\n",
      "[350]\ttrain-rmse:0.10780\tvalid-rmse:1.06190\n",
      "[400]\ttrain-rmse:0.08521\tvalid-rmse:1.06068\n",
      "[450]\ttrain-rmse:0.06784\tvalid-rmse:1.06027\n",
      "[500]\ttrain-rmse:0.05372\tvalid-rmse:1.05984\n",
      "[550]\ttrain-rmse:0.04358\tvalid-rmse:1.05955\n",
      "[600]\ttrain-rmse:0.03487\tvalid-rmse:1.05946\n",
      "[650]\ttrain-rmse:0.02841\tvalid-rmse:1.05929\n",
      "[699]\ttrain-rmse:0.02302\tvalid-rmse:1.05918\n"
     ]
    }
   ],
   "source": [
    "dtrain = xgb.DMatrix(X_train, label=y_train)\n",
    "dvalid = xgb.DMatrix(X_test, label=y_test)\n",
    "#dtest = xgb.DMatrix(test_df)\n",
    "watchlist = [(dtrain, 'train'), (dvalid, 'valid')]\n",
    "\n",
    "xgb_params = {\n",
    "    'min_child_weight': 1, \n",
    "    'learning_rate': 0.05, \n",
    "    'colsample_bytree': 0.7, \n",
    "    'max_depth': 10,\n",
    "    'subsample': 0.7,\n",
    "    'n_estimators': 50, #set back to 5000\n",
    "    'n_jobs': -1, \n",
    "    'booster' : 'gbtree', \n",
    "    'silent': 1,\n",
    "    'eval_metric': 'rmse'}\n",
    "\n",
    "model = xgb.train(xgb_params, dtrain, 700, watchlist, early_stopping_rounds=100, maximize=False, verbose_eval=50)"
   ]
  },
  {
   "cell_type": "code",
   "execution_count": 37,
   "metadata": {},
   "outputs": [
    {
     "name": "stdout",
     "output_type": "stream",
     "text": [
      "Train r2 score:  0.9999972730593839\n",
      "Test r2 score:  0.9945116691511294\n",
      "Train RMSE: 0.0230\n",
      "Test RMSE: 1.0592\n"
     ]
    }
   ],
   "source": [
    "y_train_pred = model.predict(dtrain)\n",
    "y_pred = model.predict(dvalid)\n",
    "print('Train r2 score: ', r2_score(y_train_pred, y_train))\n",
    "print('Test r2 score: ', r2_score(y_test, y_pred))\n",
    "train_rmse = np.sqrt(mean_squared_error(y_train_pred, y_train))\n",
    "test_rmse = np.sqrt(mean_squared_error(y_test, y_pred))\n",
    "print(f'Train RMSE: {train_rmse:.4f}')\n",
    "print(f'Test RMSE: {test_rmse:.4f}')"
   ]
  },
  {
   "cell_type": "code",
   "execution_count": null,
   "metadata": {},
   "outputs": [],
   "source": []
  },
  {
   "cell_type": "markdown",
   "metadata": {},
   "source": [
    "## Classification models"
   ]
  },
  {
   "cell_type": "code",
   "execution_count": 53,
   "metadata": {},
   "outputs": [
    {
     "data": {
      "text/html": [
       "<div>\n",
       "<style scoped>\n",
       "    .dataframe tbody tr th:only-of-type {\n",
       "        vertical-align: middle;\n",
       "    }\n",
       "\n",
       "    .dataframe tbody tr th {\n",
       "        vertical-align: top;\n",
       "    }\n",
       "\n",
       "    .dataframe thead th {\n",
       "        text-align: right;\n",
       "    }\n",
       "</style>\n",
       "<table border=\"1\" class=\"dataframe\">\n",
       "  <thead>\n",
       "    <tr style=\"text-align: right;\">\n",
       "      <th></th>\n",
       "      <th>tpep_pickup_datetime</th>\n",
       "      <th>tpep_dropoff_datetime</th>\n",
       "      <th>passenger_count</th>\n",
       "      <th>trip_distance</th>\n",
       "      <th>RatecodeID</th>\n",
       "      <th>PULocationID</th>\n",
       "      <th>DOLocationID</th>\n",
       "      <th>fare_amount</th>\n",
       "      <th>tip_amount</th>\n",
       "      <th>total_amount</th>\n",
       "      <th>...</th>\n",
       "      <th>pickup_time</th>\n",
       "      <th>dropoff_time</th>\n",
       "      <th>trip_duration_seconds</th>\n",
       "      <th>trip_duration_minutes</th>\n",
       "      <th>pickup_hour</th>\n",
       "      <th>pickup_month</th>\n",
       "      <th>pickup_day_no</th>\n",
       "      <th>day_of_week</th>\n",
       "      <th>pickup_zone</th>\n",
       "      <th>dropoff_zone</th>\n",
       "    </tr>\n",
       "  </thead>\n",
       "  <tbody>\n",
       "    <tr>\n",
       "      <th>0</th>\n",
       "      <td>2022-03-01 00:13:08</td>\n",
       "      <td>2022-03-01 00:24:35</td>\n",
       "      <td>1.0</td>\n",
       "      <td>2.40</td>\n",
       "      <td>1.0</td>\n",
       "      <td>90</td>\n",
       "      <td>209</td>\n",
       "      <td>10.0</td>\n",
       "      <td>0.00</td>\n",
       "      <td>13.80</td>\n",
       "      <td>...</td>\n",
       "      <td>00:13:08</td>\n",
       "      <td>00:24:35</td>\n",
       "      <td>687.0</td>\n",
       "      <td>11.0</td>\n",
       "      <td>0</td>\n",
       "      <td>3</td>\n",
       "      <td>1</td>\n",
       "      <td>Weekday</td>\n",
       "      <td>Flatiron</td>\n",
       "      <td>Seaport</td>\n",
       "    </tr>\n",
       "    <tr>\n",
       "      <th>1</th>\n",
       "      <td>2022-03-01 00:47:52</td>\n",
       "      <td>2022-03-01 01:00:08</td>\n",
       "      <td>1.0</td>\n",
       "      <td>2.20</td>\n",
       "      <td>1.0</td>\n",
       "      <td>148</td>\n",
       "      <td>234</td>\n",
       "      <td>10.5</td>\n",
       "      <td>0.00</td>\n",
       "      <td>14.30</td>\n",
       "      <td>...</td>\n",
       "      <td>00:47:52</td>\n",
       "      <td>01:00:08</td>\n",
       "      <td>736.0</td>\n",
       "      <td>12.0</td>\n",
       "      <td>0</td>\n",
       "      <td>3</td>\n",
       "      <td>1</td>\n",
       "      <td>Weekday</td>\n",
       "      <td>Lower East Side</td>\n",
       "      <td>Union Sq</td>\n",
       "    </tr>\n",
       "    <tr>\n",
       "      <th>2</th>\n",
       "      <td>2022-03-01 00:02:46</td>\n",
       "      <td>2022-03-01 00:46:43</td>\n",
       "      <td>1.0</td>\n",
       "      <td>19.78</td>\n",
       "      <td>2.0</td>\n",
       "      <td>132</td>\n",
       "      <td>249</td>\n",
       "      <td>52.0</td>\n",
       "      <td>11.06</td>\n",
       "      <td>67.61</td>\n",
       "      <td>...</td>\n",
       "      <td>00:02:46</td>\n",
       "      <td>00:46:43</td>\n",
       "      <td>2637.0</td>\n",
       "      <td>43.0</td>\n",
       "      <td>0</td>\n",
       "      <td>3</td>\n",
       "      <td>1</td>\n",
       "      <td>Weekday</td>\n",
       "      <td>JFK Airport</td>\n",
       "      <td>West Village</td>\n",
       "    </tr>\n",
       "    <tr>\n",
       "      <th>3</th>\n",
       "      <td>2022-03-01 00:52:43</td>\n",
       "      <td>2022-03-01 01:03:40</td>\n",
       "      <td>2.0</td>\n",
       "      <td>2.94</td>\n",
       "      <td>1.0</td>\n",
       "      <td>211</td>\n",
       "      <td>66</td>\n",
       "      <td>11.0</td>\n",
       "      <td>4.44</td>\n",
       "      <td>19.24</td>\n",
       "      <td>...</td>\n",
       "      <td>00:52:43</td>\n",
       "      <td>01:03:40</td>\n",
       "      <td>657.0</td>\n",
       "      <td>10.0</td>\n",
       "      <td>0</td>\n",
       "      <td>3</td>\n",
       "      <td>1</td>\n",
       "      <td>Weekday</td>\n",
       "      <td>SoHo</td>\n",
       "      <td>DUMBO/Vinegar Hill</td>\n",
       "    </tr>\n",
       "    <tr>\n",
       "      <th>4</th>\n",
       "      <td>2022-03-01 00:15:35</td>\n",
       "      <td>2022-03-01 00:34:13</td>\n",
       "      <td>1.0</td>\n",
       "      <td>8.57</td>\n",
       "      <td>1.0</td>\n",
       "      <td>138</td>\n",
       "      <td>197</td>\n",
       "      <td>25.0</td>\n",
       "      <td>5.51</td>\n",
       "      <td>33.06</td>\n",
       "      <td>...</td>\n",
       "      <td>00:15:35</td>\n",
       "      <td>00:34:13</td>\n",
       "      <td>1118.0</td>\n",
       "      <td>18.0</td>\n",
       "      <td>0</td>\n",
       "      <td>3</td>\n",
       "      <td>1</td>\n",
       "      <td>Weekday</td>\n",
       "      <td>LaGuardia Airport</td>\n",
       "      <td>Richmond Hill</td>\n",
       "    </tr>\n",
       "  </tbody>\n",
       "</table>\n",
       "<p>5 rows × 23 columns</p>\n",
       "</div>"
      ],
      "text/plain": [
       "  tpep_pickup_datetime tpep_dropoff_datetime  passenger_count  trip_distance  \\\n",
       "0  2022-03-01 00:13:08   2022-03-01 00:24:35              1.0           2.40   \n",
       "1  2022-03-01 00:47:52   2022-03-01 01:00:08              1.0           2.20   \n",
       "2  2022-03-01 00:02:46   2022-03-01 00:46:43              1.0          19.78   \n",
       "3  2022-03-01 00:52:43   2022-03-01 01:03:40              2.0           2.94   \n",
       "4  2022-03-01 00:15:35   2022-03-01 00:34:13              1.0           8.57   \n",
       "\n",
       "   RatecodeID  PULocationID  DOLocationID  fare_amount  tip_amount  \\\n",
       "0         1.0            90           209         10.0        0.00   \n",
       "1         1.0           148           234         10.5        0.00   \n",
       "2         2.0           132           249         52.0       11.06   \n",
       "3         1.0           211            66         11.0        4.44   \n",
       "4         1.0           138           197         25.0        5.51   \n",
       "\n",
       "   total_amount  ...  pickup_time dropoff_time trip_duration_seconds  \\\n",
       "0         13.80  ...     00:13:08     00:24:35                 687.0   \n",
       "1         14.30  ...     00:47:52     01:00:08                 736.0   \n",
       "2         67.61  ...     00:02:46     00:46:43                2637.0   \n",
       "3         19.24  ...     00:52:43     01:03:40                 657.0   \n",
       "4         33.06  ...     00:15:35     00:34:13                1118.0   \n",
       "\n",
       "  trip_duration_minutes pickup_hour  pickup_month  pickup_day_no  day_of_week  \\\n",
       "0                  11.0           0             3              1      Weekday   \n",
       "1                  12.0           0             3              1      Weekday   \n",
       "2                  43.0           0             3              1      Weekday   \n",
       "3                  10.0           0             3              1      Weekday   \n",
       "4                  18.0           0             3              1      Weekday   \n",
       "\n",
       "         pickup_zone        dropoff_zone  \n",
       "0           Flatiron             Seaport  \n",
       "1    Lower East Side            Union Sq  \n",
       "2        JFK Airport        West Village  \n",
       "3               SoHo  DUMBO/Vinegar Hill  \n",
       "4  LaGuardia Airport       Richmond Hill  \n",
       "\n",
       "[5 rows x 23 columns]"
      ]
     },
     "execution_count": 53,
     "metadata": {},
     "output_type": "execute_result"
    }
   ],
   "source": [
    "df_taxi.head()"
   ]
  },
  {
   "cell_type": "code",
   "execution_count": 54,
   "metadata": {},
   "outputs": [
    {
     "name": "stdout",
     "output_type": "stream",
     "text": [
      "183.17\n",
      "3.3\n",
      "19.877002669778406\n"
     ]
    }
   ],
   "source": [
    "print(df_taxi[\"total_amount\"].max())\n",
    "print(df_taxi[\"total_amount\"].min())\n",
    "print(df_taxi[\"total_amount\"].mean())"
   ]
  },
  {
   "cell_type": "code",
   "execution_count": 55,
   "metadata": {},
   "outputs": [
    {
     "data": {
      "text/plain": [
       "<seaborn.axisgrid.FacetGrid at 0x1c0f1942828>"
      ]
     },
     "execution_count": 55,
     "metadata": {},
     "output_type": "execute_result"
    },
    {
     "data": {
      "image/png": "[encoded data removed]",
      "text/plain": [
       "<Figure size 360x360 with 1 Axes>"
      ]
     },
     "metadata": {
      "needs_background": "light"
     },
     "output_type": "display_data"
    }
   ],
   "source": [
    "import seaborn as sns\n",
    "sns.displot(df_taxi, x=\"total_amount\")"
   ]
  },
  {
   "cell_type": "code",
   "execution_count": 56,
   "metadata": {},
   "outputs": [
    {
     "data": {
      "text/html": [
       "<div>\n",
       "<style scoped>\n",
       "    .dataframe tbody tr th:only-of-type {\n",
       "        vertical-align: middle;\n",
       "    }\n",
       "\n",
       "    .dataframe tbody tr th {\n",
       "        vertical-align: top;\n",
       "    }\n",
       "\n",
       "    .dataframe thead th {\n",
       "        text-align: right;\n",
       "    }\n",
       "</style>\n",
       "<table border=\"1\" class=\"dataframe\">\n",
       "  <thead>\n",
       "    <tr style=\"text-align: right;\">\n",
       "      <th></th>\n",
       "      <th>tpep_pickup_datetime</th>\n",
       "      <th>tpep_dropoff_datetime</th>\n",
       "      <th>passenger_count</th>\n",
       "      <th>trip_distance</th>\n",
       "      <th>RatecodeID</th>\n",
       "      <th>PULocationID</th>\n",
       "      <th>DOLocationID</th>\n",
       "      <th>fare_amount</th>\n",
       "      <th>tip_amount</th>\n",
       "      <th>total_amount</th>\n",
       "      <th>...</th>\n",
       "      <th>pickup_time</th>\n",
       "      <th>dropoff_time</th>\n",
       "      <th>trip_duration_seconds</th>\n",
       "      <th>trip_duration_minutes</th>\n",
       "      <th>pickup_hour</th>\n",
       "      <th>pickup_month</th>\n",
       "      <th>pickup_day_no</th>\n",
       "      <th>day_of_week</th>\n",
       "      <th>pickup_zone</th>\n",
       "      <th>dropoff_zone</th>\n",
       "    </tr>\n",
       "  </thead>\n",
       "  <tbody>\n",
       "    <tr>\n",
       "      <th>274785</th>\n",
       "      <td>2022-03-03 13:34:10</td>\n",
       "      <td>2022-03-03 13:35:46</td>\n",
       "      <td>1.0</td>\n",
       "      <td>0.03</td>\n",
       "      <td>1.0</td>\n",
       "      <td>130</td>\n",
       "      <td>130</td>\n",
       "      <td>2.5</td>\n",
       "      <td>0.00</td>\n",
       "      <td>3.30</td>\n",
       "      <td>...</td>\n",
       "      <td>13:34:10</td>\n",
       "      <td>13:35:46</td>\n",
       "      <td>96.0</td>\n",
       "      <td>1.0</td>\n",
       "      <td>13</td>\n",
       "      <td>3</td>\n",
       "      <td>3</td>\n",
       "      <td>Weekday</td>\n",
       "      <td>Jamaica</td>\n",
       "      <td>Jamaica</td>\n",
       "    </tr>\n",
       "    <tr>\n",
       "      <th>801997</th>\n",
       "      <td>2022-03-08 09:04:53</td>\n",
       "      <td>2022-03-08 09:10:16</td>\n",
       "      <td>1.0</td>\n",
       "      <td>0.08</td>\n",
       "      <td>1.0</td>\n",
       "      <td>244</td>\n",
       "      <td>244</td>\n",
       "      <td>2.5</td>\n",
       "      <td>0.00</td>\n",
       "      <td>3.30</td>\n",
       "      <td>...</td>\n",
       "      <td>09:04:53</td>\n",
       "      <td>09:10:16</td>\n",
       "      <td>323.0</td>\n",
       "      <td>5.0</td>\n",
       "      <td>9</td>\n",
       "      <td>3</td>\n",
       "      <td>1</td>\n",
       "      <td>Weekday</td>\n",
       "      <td>Washington Heights South</td>\n",
       "      <td>Washington Heights South</td>\n",
       "    </tr>\n",
       "    <tr>\n",
       "      <th>1058238</th>\n",
       "      <td>2022-03-10 13:25:51</td>\n",
       "      <td>2022-03-10 15:08:03</td>\n",
       "      <td>1.0</td>\n",
       "      <td>0.30</td>\n",
       "      <td>1.0</td>\n",
       "      <td>193</td>\n",
       "      <td>145</td>\n",
       "      <td>2.5</td>\n",
       "      <td>0.00</td>\n",
       "      <td>3.30</td>\n",
       "      <td>...</td>\n",
       "      <td>13:25:51</td>\n",
       "      <td>15:08:03</td>\n",
       "      <td>6132.0</td>\n",
       "      <td>102.0</td>\n",
       "      <td>13</td>\n",
       "      <td>3</td>\n",
       "      <td>3</td>\n",
       "      <td>Weekday</td>\n",
       "      <td>Queensbridge/Ravenswood</td>\n",
       "      <td>Long Island City/Hunters Point</td>\n",
       "    </tr>\n",
       "    <tr>\n",
       "      <th>2614228</th>\n",
       "      <td>2022-03-24 13:43:50</td>\n",
       "      <td>2022-03-24 14:01:15</td>\n",
       "      <td>1.0</td>\n",
       "      <td>0.46</td>\n",
       "      <td>1.0</td>\n",
       "      <td>166</td>\n",
       "      <td>42</td>\n",
       "      <td>2.5</td>\n",
       "      <td>0.00</td>\n",
       "      <td>3.30</td>\n",
       "      <td>...</td>\n",
       "      <td>13:43:50</td>\n",
       "      <td>14:01:15</td>\n",
       "      <td>1045.0</td>\n",
       "      <td>17.0</td>\n",
       "      <td>13</td>\n",
       "      <td>3</td>\n",
       "      <td>3</td>\n",
       "      <td>Weekday</td>\n",
       "      <td>Morningside Heights</td>\n",
       "      <td>Central Harlem North</td>\n",
       "    </tr>\n",
       "    <tr>\n",
       "      <th>1501988</th>\n",
       "      <td>2022-03-14 12:18:35</td>\n",
       "      <td>2022-03-14 12:19:48</td>\n",
       "      <td>1.0</td>\n",
       "      <td>0.14</td>\n",
       "      <td>1.0</td>\n",
       "      <td>166</td>\n",
       "      <td>166</td>\n",
       "      <td>2.5</td>\n",
       "      <td>0.00</td>\n",
       "      <td>3.30</td>\n",
       "      <td>...</td>\n",
       "      <td>12:18:35</td>\n",
       "      <td>12:19:48</td>\n",
       "      <td>73.0</td>\n",
       "      <td>1.0</td>\n",
       "      <td>12</td>\n",
       "      <td>3</td>\n",
       "      <td>0</td>\n",
       "      <td>Weekday</td>\n",
       "      <td>Morningside Heights</td>\n",
       "      <td>Morningside Heights</td>\n",
       "    </tr>\n",
       "    <tr>\n",
       "      <th>...</th>\n",
       "      <td>...</td>\n",
       "      <td>...</td>\n",
       "      <td>...</td>\n",
       "      <td>...</td>\n",
       "      <td>...</td>\n",
       "      <td>...</td>\n",
       "      <td>...</td>\n",
       "      <td>...</td>\n",
       "      <td>...</td>\n",
       "      <td>...</td>\n",
       "      <td>...</td>\n",
       "      <td>...</td>\n",
       "      <td>...</td>\n",
       "      <td>...</td>\n",
       "      <td>...</td>\n",
       "      <td>...</td>\n",
       "      <td>...</td>\n",
       "      <td>...</td>\n",
       "      <td>...</td>\n",
       "      <td>...</td>\n",
       "      <td>...</td>\n",
       "    </tr>\n",
       "    <tr>\n",
       "      <th>818131</th>\n",
       "      <td>2022-03-08 12:54:09</td>\n",
       "      <td>2022-03-08 14:08:03</td>\n",
       "      <td>1.0</td>\n",
       "      <td>37.83</td>\n",
       "      <td>1.0</td>\n",
       "      <td>68</td>\n",
       "      <td>229</td>\n",
       "      <td>103.5</td>\n",
       "      <td>29.98</td>\n",
       "      <td>149.88</td>\n",
       "      <td>...</td>\n",
       "      <td>12:54:09</td>\n",
       "      <td>14:08:03</td>\n",
       "      <td>4434.0</td>\n",
       "      <td>73.0</td>\n",
       "      <td>12</td>\n",
       "      <td>3</td>\n",
       "      <td>1</td>\n",
       "      <td>Weekday</td>\n",
       "      <td>East Chelsea</td>\n",
       "      <td>Sutton Place/Turtle Bay North</td>\n",
       "    </tr>\n",
       "    <tr>\n",
       "      <th>3032498</th>\n",
       "      <td>2022-03-27 23:58:00</td>\n",
       "      <td>2022-03-28 01:23:31</td>\n",
       "      <td>1.0</td>\n",
       "      <td>46.84</td>\n",
       "      <td>1.0</td>\n",
       "      <td>132</td>\n",
       "      <td>132</td>\n",
       "      <td>128.5</td>\n",
       "      <td>25.96</td>\n",
       "      <td>157.01</td>\n",
       "      <td>...</td>\n",
       "      <td>23:58:00</td>\n",
       "      <td>01:23:31</td>\n",
       "      <td>5131.0</td>\n",
       "      <td>85.0</td>\n",
       "      <td>23</td>\n",
       "      <td>3</td>\n",
       "      <td>0</td>\n",
       "      <td>Weekend</td>\n",
       "      <td>JFK Airport</td>\n",
       "      <td>JFK Airport</td>\n",
       "    </tr>\n",
       "    <tr>\n",
       "      <th>229883</th>\n",
       "      <td>2022-03-03 01:52:06</td>\n",
       "      <td>2022-03-03 03:49:06</td>\n",
       "      <td>1.0</td>\n",
       "      <td>47.30</td>\n",
       "      <td>1.0</td>\n",
       "      <td>113</td>\n",
       "      <td>260</td>\n",
       "      <td>135.0</td>\n",
       "      <td>0.00</td>\n",
       "      <td>158.45</td>\n",
       "      <td>...</td>\n",
       "      <td>01:52:06</td>\n",
       "      <td>03:49:06</td>\n",
       "      <td>7020.0</td>\n",
       "      <td>117.0</td>\n",
       "      <td>1</td>\n",
       "      <td>3</td>\n",
       "      <td>3</td>\n",
       "      <td>Weekday</td>\n",
       "      <td>Greenwich Village North</td>\n",
       "      <td>Woodside</td>\n",
       "    </tr>\n",
       "    <tr>\n",
       "      <th>2190142</th>\n",
       "      <td>2022-03-20 14:02:00</td>\n",
       "      <td>2022-03-20 14:51:23</td>\n",
       "      <td>1.0</td>\n",
       "      <td>37.26</td>\n",
       "      <td>1.0</td>\n",
       "      <td>243</td>\n",
       "      <td>44</td>\n",
       "      <td>97.0</td>\n",
       "      <td>37.26</td>\n",
       "      <td>161.46</td>\n",
       "      <td>...</td>\n",
       "      <td>14:02:00</td>\n",
       "      <td>14:51:23</td>\n",
       "      <td>2963.0</td>\n",
       "      <td>49.0</td>\n",
       "      <td>14</td>\n",
       "      <td>3</td>\n",
       "      <td>6</td>\n",
       "      <td>Weekend</td>\n",
       "      <td>Washington Heights North</td>\n",
       "      <td>Charleston/Tottenville</td>\n",
       "    </tr>\n",
       "    <tr>\n",
       "      <th>3353037</th>\n",
       "      <td>2022-03-30 18:35:39</td>\n",
       "      <td>2022-03-30 19:55:38</td>\n",
       "      <td>2.0</td>\n",
       "      <td>48.69</td>\n",
       "      <td>1.0</td>\n",
       "      <td>132</td>\n",
       "      <td>1</td>\n",
       "      <td>127.0</td>\n",
       "      <td>30.32</td>\n",
       "      <td>183.17</td>\n",
       "      <td>...</td>\n",
       "      <td>18:35:39</td>\n",
       "      <td>19:55:38</td>\n",
       "      <td>4799.0</td>\n",
       "      <td>79.0</td>\n",
       "      <td>18</td>\n",
       "      <td>3</td>\n",
       "      <td>2</td>\n",
       "      <td>Weekday</td>\n",
       "      <td>JFK Airport</td>\n",
       "      <td>Newark Airport</td>\n",
       "    </tr>\n",
       "  </tbody>\n",
       "</table>\n",
       "<p>3294499 rows × 23 columns</p>\n",
       "</div>"
      ],
      "text/plain": [
       "        tpep_pickup_datetime tpep_dropoff_datetime  passenger_count  \\\n",
       "274785   2022-03-03 13:34:10   2022-03-03 13:35:46              1.0   \n",
       "801997   2022-03-08 09:04:53   2022-03-08 09:10:16              1.0   \n",
       "1058238  2022-03-10 13:25:51   2022-03-10 15:08:03              1.0   \n",
       "2614228  2022-03-24 13:43:50   2022-03-24 14:01:15              1.0   \n",
       "1501988  2022-03-14 12:18:35   2022-03-14 12:19:48              1.0   \n",
       "...                      ...                   ...              ...   \n",
       "818131   2022-03-08 12:54:09   2022-03-08 14:08:03              1.0   \n",
       "3032498  2022-03-27 23:58:00   2022-03-28 01:23:31              1.0   \n",
       "229883   2022-03-03 01:52:06   2022-03-03 03:49:06              1.0   \n",
       "2190142  2022-03-20 14:02:00   2022-03-20 14:51:23              1.0   \n",
       "3353037  2022-03-30 18:35:39   2022-03-30 19:55:38              2.0   \n",
       "\n",
       "         trip_distance  RatecodeID  PULocationID  DOLocationID  fare_amount  \\\n",
       "274785            0.03         1.0           130           130          2.5   \n",
       "801997            0.08         1.0           244           244          2.5   \n",
       "1058238           0.30         1.0           193           145          2.5   \n",
       "2614228           0.46         1.0           166            42          2.5   \n",
       "1501988           0.14         1.0           166           166          2.5   \n",
       "...                ...         ...           ...           ...          ...   \n",
       "818131           37.83         1.0            68           229        103.5   \n",
       "3032498          46.84         1.0           132           132        128.5   \n",
       "229883           47.30         1.0           113           260        135.0   \n",
       "2190142          37.26         1.0           243            44         97.0   \n",
       "3353037          48.69         1.0           132             1        127.0   \n",
       "\n",
       "         tip_amount  total_amount  ...  pickup_time dropoff_time  \\\n",
       "274785         0.00          3.30  ...     13:34:10     13:35:46   \n",
       "801997         0.00          3.30  ...     09:04:53     09:10:16   \n",
       "1058238        0.00          3.30  ...     13:25:51     15:08:03   \n",
       "2614228        0.00          3.30  ...     13:43:50     14:01:15   \n",
       "1501988        0.00          3.30  ...     12:18:35     12:19:48   \n",
       "...             ...           ...  ...          ...          ...   \n",
       "818131        29.98        149.88  ...     12:54:09     14:08:03   \n",
       "3032498       25.96        157.01  ...     23:58:00     01:23:31   \n",
       "229883         0.00        158.45  ...     01:52:06     03:49:06   \n",
       "2190142       37.26        161.46  ...     14:02:00     14:51:23   \n",
       "3353037       30.32        183.17  ...     18:35:39     19:55:38   \n",
       "\n",
       "        trip_duration_seconds trip_duration_minutes pickup_hour  pickup_month  \\\n",
       "274785                   96.0                   1.0          13             3   \n",
       "801997                  323.0                   5.0           9             3   \n",
       "1058238                6132.0                 102.0          13             3   \n",
       "2614228                1045.0                  17.0          13             3   \n",
       "1501988                  73.0                   1.0          12             3   \n",
       "...                       ...                   ...         ...           ...   \n",
       "818131                 4434.0                  73.0          12             3   \n",
       "3032498                5131.0                  85.0          23             3   \n",
       "229883                 7020.0                 117.0           1             3   \n",
       "2190142                2963.0                  49.0          14             3   \n",
       "3353037                4799.0                  79.0          18             3   \n",
       "\n",
       "         pickup_day_no  day_of_week               pickup_zone  \\\n",
       "274785               3      Weekday                   Jamaica   \n",
       "801997               1      Weekday  Washington Heights South   \n",
       "1058238              3      Weekday   Queensbridge/Ravenswood   \n",
       "2614228              3      Weekday       Morningside Heights   \n",
       "1501988              0      Weekday       Morningside Heights   \n",
       "...                ...          ...                       ...   \n",
       "818131               1      Weekday              East Chelsea   \n",
       "3032498              0      Weekend               JFK Airport   \n",
       "229883               3      Weekday   Greenwich Village North   \n",
       "2190142              6      Weekend  Washington Heights North   \n",
       "3353037              2      Weekday               JFK Airport   \n",
       "\n",
       "                           dropoff_zone  \n",
       "274785                          Jamaica  \n",
       "801997         Washington Heights South  \n",
       "1058238  Long Island City/Hunters Point  \n",
       "2614228            Central Harlem North  \n",
       "1501988             Morningside Heights  \n",
       "...                                 ...  \n",
       "818131    Sutton Place/Turtle Bay North  \n",
       "3032498                     JFK Airport  \n",
       "229883                         Woodside  \n",
       "2190142          Charleston/Tottenville  \n",
       "3353037                  Newark Airport  \n",
       "\n",
       "[3294499 rows x 23 columns]"
      ]
     },
     "execution_count": 56,
     "metadata": {},
     "output_type": "execute_result"
    }
   ],
   "source": [
    "df_taxi.sort_values('total_amount')"
   ]
  },
  {
   "cell_type": "code",
   "execution_count": 72,
   "metadata": {},
   "outputs": [
    {
     "data": {
      "text/html": [
       "<div>\n",
       "<style scoped>\n",
       "    .dataframe tbody tr th:only-of-type {\n",
       "        vertical-align: middle;\n",
       "    }\n",
       "\n",
       "    .dataframe tbody tr th {\n",
       "        vertical-align: top;\n",
       "    }\n",
       "\n",
       "    .dataframe thead th {\n",
       "        text-align: right;\n",
       "    }\n",
       "</style>\n",
       "<table border=\"1\" class=\"dataframe\">\n",
       "  <thead>\n",
       "    <tr style=\"text-align: right;\">\n",
       "      <th></th>\n",
       "      <th>tpep_pickup_datetime</th>\n",
       "      <th>tpep_dropoff_datetime</th>\n",
       "      <th>passenger_count</th>\n",
       "      <th>trip_distance</th>\n",
       "      <th>RatecodeID</th>\n",
       "      <th>PULocationID</th>\n",
       "      <th>DOLocationID</th>\n",
       "      <th>fare_amount</th>\n",
       "      <th>tip_amount</th>\n",
       "      <th>total_amount</th>\n",
       "      <th>...</th>\n",
       "      <th>dropoff_time</th>\n",
       "      <th>trip_duration_seconds</th>\n",
       "      <th>trip_duration_minutes</th>\n",
       "      <th>pickup_hour</th>\n",
       "      <th>pickup_month</th>\n",
       "      <th>pickup_day_no</th>\n",
       "      <th>day_of_week</th>\n",
       "      <th>pickup_zone</th>\n",
       "      <th>dropoff_zone</th>\n",
       "      <th>bins</th>\n",
       "    </tr>\n",
       "  </thead>\n",
       "  <tbody>\n",
       "    <tr>\n",
       "      <th>0</th>\n",
       "      <td>2022-03-01 00:13:08</td>\n",
       "      <td>2022-03-01 00:24:35</td>\n",
       "      <td>1.0</td>\n",
       "      <td>2.40</td>\n",
       "      <td>1.0</td>\n",
       "      <td>90</td>\n",
       "      <td>209</td>\n",
       "      <td>10.0</td>\n",
       "      <td>0.00</td>\n",
       "      <td>13.80</td>\n",
       "      <td>...</td>\n",
       "      <td>00:24:35</td>\n",
       "      <td>687.0</td>\n",
       "      <td>11.0</td>\n",
       "      <td>0</td>\n",
       "      <td>3</td>\n",
       "      <td>1</td>\n",
       "      <td>Weekday</td>\n",
       "      <td>Flatiron</td>\n",
       "      <td>Seaport</td>\n",
       "      <td>(1, 25]</td>\n",
       "    </tr>\n",
       "    <tr>\n",
       "      <th>1</th>\n",
       "      <td>2022-03-01 00:47:52</td>\n",
       "      <td>2022-03-01 01:00:08</td>\n",
       "      <td>1.0</td>\n",
       "      <td>2.20</td>\n",
       "      <td>1.0</td>\n",
       "      <td>148</td>\n",
       "      <td>234</td>\n",
       "      <td>10.5</td>\n",
       "      <td>0.00</td>\n",
       "      <td>14.30</td>\n",
       "      <td>...</td>\n",
       "      <td>01:00:08</td>\n",
       "      <td>736.0</td>\n",
       "      <td>12.0</td>\n",
       "      <td>0</td>\n",
       "      <td>3</td>\n",
       "      <td>1</td>\n",
       "      <td>Weekday</td>\n",
       "      <td>Lower East Side</td>\n",
       "      <td>Union Sq</td>\n",
       "      <td>(1, 25]</td>\n",
       "    </tr>\n",
       "    <tr>\n",
       "      <th>2</th>\n",
       "      <td>2022-03-01 00:02:46</td>\n",
       "      <td>2022-03-01 00:46:43</td>\n",
       "      <td>1.0</td>\n",
       "      <td>19.78</td>\n",
       "      <td>2.0</td>\n",
       "      <td>132</td>\n",
       "      <td>249</td>\n",
       "      <td>52.0</td>\n",
       "      <td>11.06</td>\n",
       "      <td>67.61</td>\n",
       "      <td>...</td>\n",
       "      <td>00:46:43</td>\n",
       "      <td>2637.0</td>\n",
       "      <td>43.0</td>\n",
       "      <td>0</td>\n",
       "      <td>3</td>\n",
       "      <td>1</td>\n",
       "      <td>Weekday</td>\n",
       "      <td>JFK Airport</td>\n",
       "      <td>West Village</td>\n",
       "      <td>(50, 75]</td>\n",
       "    </tr>\n",
       "    <tr>\n",
       "      <th>3</th>\n",
       "      <td>2022-03-01 00:52:43</td>\n",
       "      <td>2022-03-01 01:03:40</td>\n",
       "      <td>2.0</td>\n",
       "      <td>2.94</td>\n",
       "      <td>1.0</td>\n",
       "      <td>211</td>\n",
       "      <td>66</td>\n",
       "      <td>11.0</td>\n",
       "      <td>4.44</td>\n",
       "      <td>19.24</td>\n",
       "      <td>...</td>\n",
       "      <td>01:03:40</td>\n",
       "      <td>657.0</td>\n",
       "      <td>10.0</td>\n",
       "      <td>0</td>\n",
       "      <td>3</td>\n",
       "      <td>1</td>\n",
       "      <td>Weekday</td>\n",
       "      <td>SoHo</td>\n",
       "      <td>DUMBO/Vinegar Hill</td>\n",
       "      <td>(1, 25]</td>\n",
       "    </tr>\n",
       "    <tr>\n",
       "      <th>4</th>\n",
       "      <td>2022-03-01 00:15:35</td>\n",
       "      <td>2022-03-01 00:34:13</td>\n",
       "      <td>1.0</td>\n",
       "      <td>8.57</td>\n",
       "      <td>1.0</td>\n",
       "      <td>138</td>\n",
       "      <td>197</td>\n",
       "      <td>25.0</td>\n",
       "      <td>5.51</td>\n",
       "      <td>33.06</td>\n",
       "      <td>...</td>\n",
       "      <td>00:34:13</td>\n",
       "      <td>1118.0</td>\n",
       "      <td>18.0</td>\n",
       "      <td>0</td>\n",
       "      <td>3</td>\n",
       "      <td>1</td>\n",
       "      <td>Weekday</td>\n",
       "      <td>LaGuardia Airport</td>\n",
       "      <td>Richmond Hill</td>\n",
       "      <td>(25, 50]</td>\n",
       "    </tr>\n",
       "  </tbody>\n",
       "</table>\n",
       "<p>5 rows × 24 columns</p>\n",
       "</div>"
      ],
      "text/plain": [
       "  tpep_pickup_datetime tpep_dropoff_datetime  passenger_count  trip_distance  \\\n",
       "0  2022-03-01 00:13:08   2022-03-01 00:24:35              1.0           2.40   \n",
       "1  2022-03-01 00:47:52   2022-03-01 01:00:08              1.0           2.20   \n",
       "2  2022-03-01 00:02:46   2022-03-01 00:46:43              1.0          19.78   \n",
       "3  2022-03-01 00:52:43   2022-03-01 01:03:40              2.0           2.94   \n",
       "4  2022-03-01 00:15:35   2022-03-01 00:34:13              1.0           8.57   \n",
       "\n",
       "   RatecodeID  PULocationID  DOLocationID  fare_amount  tip_amount  \\\n",
       "0         1.0            90           209         10.0        0.00   \n",
       "1         1.0           148           234         10.5        0.00   \n",
       "2         2.0           132           249         52.0       11.06   \n",
       "3         1.0           211            66         11.0        4.44   \n",
       "4         1.0           138           197         25.0        5.51   \n",
       "\n",
       "   total_amount  ...  dropoff_time trip_duration_seconds  \\\n",
       "0         13.80  ...      00:24:35                 687.0   \n",
       "1         14.30  ...      01:00:08                 736.0   \n",
       "2         67.61  ...      00:46:43                2637.0   \n",
       "3         19.24  ...      01:03:40                 657.0   \n",
       "4         33.06  ...      00:34:13                1118.0   \n",
       "\n",
       "  trip_duration_minutes pickup_hour pickup_month  pickup_day_no  day_of_week  \\\n",
       "0                  11.0           0            3              1      Weekday   \n",
       "1                  12.0           0            3              1      Weekday   \n",
       "2                  43.0           0            3              1      Weekday   \n",
       "3                  10.0           0            3              1      Weekday   \n",
       "4                  18.0           0            3              1      Weekday   \n",
       "\n",
       "         pickup_zone        dropoff_zone      bins  \n",
       "0           Flatiron             Seaport   (1, 25]  \n",
       "1    Lower East Side            Union Sq   (1, 25]  \n",
       "2        JFK Airport        West Village  (50, 75]  \n",
       "3               SoHo  DUMBO/Vinegar Hill   (1, 25]  \n",
       "4  LaGuardia Airport       Richmond Hill  (25, 50]  \n",
       "\n",
       "[5 rows x 24 columns]"
      ]
     },
     "execution_count": 72,
     "metadata": {},
     "output_type": "execute_result"
    }
   ],
   "source": [
    "#creating categories\n",
    "#spread evenly over categories?\n",
    "df_taxi['bins'] = pd.cut(x=df_taxi['total_amount'], bins=[1, 25, 50, 75, 100, 200])\n",
    "df_taxi.head()"
   ]
  },
  {
   "cell_type": "code",
   "execution_count": 73,
   "metadata": {},
   "outputs": [
    {
     "data": {
      "text/html": [
       "<div>\n",
       "<style scoped>\n",
       "    .dataframe tbody tr th:only-of-type {\n",
       "        vertical-align: middle;\n",
       "    }\n",
       "\n",
       "    .dataframe tbody tr th {\n",
       "        vertical-align: top;\n",
       "    }\n",
       "\n",
       "    .dataframe thead th {\n",
       "        text-align: right;\n",
       "    }\n",
       "</style>\n",
       "<table border=\"1\" class=\"dataframe\">\n",
       "  <thead>\n",
       "    <tr style=\"text-align: right;\">\n",
       "      <th></th>\n",
       "      <th>tpep_pickup_datetime</th>\n",
       "      <th>tpep_dropoff_datetime</th>\n",
       "      <th>passenger_count</th>\n",
       "      <th>trip_distance</th>\n",
       "      <th>RatecodeID</th>\n",
       "      <th>PULocationID</th>\n",
       "      <th>DOLocationID</th>\n",
       "      <th>fare_amount</th>\n",
       "      <th>tip_amount</th>\n",
       "      <th>total_amount</th>\n",
       "      <th>...</th>\n",
       "      <th>dropoff_time</th>\n",
       "      <th>trip_duration_seconds</th>\n",
       "      <th>trip_duration_minutes</th>\n",
       "      <th>pickup_hour</th>\n",
       "      <th>pickup_month</th>\n",
       "      <th>pickup_day_no</th>\n",
       "      <th>day_of_week</th>\n",
       "      <th>pickup_zone</th>\n",
       "      <th>dropoff_zone</th>\n",
       "      <th>bins</th>\n",
       "    </tr>\n",
       "  </thead>\n",
       "  <tbody>\n",
       "    <tr>\n",
       "      <th>0</th>\n",
       "      <td>2022-03-01 00:13:08</td>\n",
       "      <td>2022-03-01 00:24:35</td>\n",
       "      <td>1.0</td>\n",
       "      <td>2.40</td>\n",
       "      <td>1.0</td>\n",
       "      <td>90</td>\n",
       "      <td>209</td>\n",
       "      <td>10.0</td>\n",
       "      <td>0.00</td>\n",
       "      <td>13.80</td>\n",
       "      <td>...</td>\n",
       "      <td>00:24:35</td>\n",
       "      <td>687.0</td>\n",
       "      <td>11.0</td>\n",
       "      <td>0</td>\n",
       "      <td>3</td>\n",
       "      <td>1</td>\n",
       "      <td>Weekday</td>\n",
       "      <td>Flatiron</td>\n",
       "      <td>Seaport</td>\n",
       "      <td>Low</td>\n",
       "    </tr>\n",
       "    <tr>\n",
       "      <th>1</th>\n",
       "      <td>2022-03-01 00:47:52</td>\n",
       "      <td>2022-03-01 01:00:08</td>\n",
       "      <td>1.0</td>\n",
       "      <td>2.20</td>\n",
       "      <td>1.0</td>\n",
       "      <td>148</td>\n",
       "      <td>234</td>\n",
       "      <td>10.5</td>\n",
       "      <td>0.00</td>\n",
       "      <td>14.30</td>\n",
       "      <td>...</td>\n",
       "      <td>01:00:08</td>\n",
       "      <td>736.0</td>\n",
       "      <td>12.0</td>\n",
       "      <td>0</td>\n",
       "      <td>3</td>\n",
       "      <td>1</td>\n",
       "      <td>Weekday</td>\n",
       "      <td>Lower East Side</td>\n",
       "      <td>Union Sq</td>\n",
       "      <td>Low</td>\n",
       "    </tr>\n",
       "    <tr>\n",
       "      <th>2</th>\n",
       "      <td>2022-03-01 00:02:46</td>\n",
       "      <td>2022-03-01 00:46:43</td>\n",
       "      <td>1.0</td>\n",
       "      <td>19.78</td>\n",
       "      <td>2.0</td>\n",
       "      <td>132</td>\n",
       "      <td>249</td>\n",
       "      <td>52.0</td>\n",
       "      <td>11.06</td>\n",
       "      <td>67.61</td>\n",
       "      <td>...</td>\n",
       "      <td>00:46:43</td>\n",
       "      <td>2637.0</td>\n",
       "      <td>43.0</td>\n",
       "      <td>0</td>\n",
       "      <td>3</td>\n",
       "      <td>1</td>\n",
       "      <td>Weekday</td>\n",
       "      <td>JFK Airport</td>\n",
       "      <td>West Village</td>\n",
       "      <td>High</td>\n",
       "    </tr>\n",
       "    <tr>\n",
       "      <th>3</th>\n",
       "      <td>2022-03-01 00:52:43</td>\n",
       "      <td>2022-03-01 01:03:40</td>\n",
       "      <td>2.0</td>\n",
       "      <td>2.94</td>\n",
       "      <td>1.0</td>\n",
       "      <td>211</td>\n",
       "      <td>66</td>\n",
       "      <td>11.0</td>\n",
       "      <td>4.44</td>\n",
       "      <td>19.24</td>\n",
       "      <td>...</td>\n",
       "      <td>01:03:40</td>\n",
       "      <td>657.0</td>\n",
       "      <td>10.0</td>\n",
       "      <td>0</td>\n",
       "      <td>3</td>\n",
       "      <td>1</td>\n",
       "      <td>Weekday</td>\n",
       "      <td>SoHo</td>\n",
       "      <td>DUMBO/Vinegar Hill</td>\n",
       "      <td>Low</td>\n",
       "    </tr>\n",
       "    <tr>\n",
       "      <th>4</th>\n",
       "      <td>2022-03-01 00:15:35</td>\n",
       "      <td>2022-03-01 00:34:13</td>\n",
       "      <td>1.0</td>\n",
       "      <td>8.57</td>\n",
       "      <td>1.0</td>\n",
       "      <td>138</td>\n",
       "      <td>197</td>\n",
       "      <td>25.0</td>\n",
       "      <td>5.51</td>\n",
       "      <td>33.06</td>\n",
       "      <td>...</td>\n",
       "      <td>00:34:13</td>\n",
       "      <td>1118.0</td>\n",
       "      <td>18.0</td>\n",
       "      <td>0</td>\n",
       "      <td>3</td>\n",
       "      <td>1</td>\n",
       "      <td>Weekday</td>\n",
       "      <td>LaGuardia Airport</td>\n",
       "      <td>Richmond Hill</td>\n",
       "      <td>Medium</td>\n",
       "    </tr>\n",
       "  </tbody>\n",
       "</table>\n",
       "<p>5 rows × 24 columns</p>\n",
       "</div>"
      ],
      "text/plain": [
       "  tpep_pickup_datetime tpep_dropoff_datetime  passenger_count  trip_distance  \\\n",
       "0  2022-03-01 00:13:08   2022-03-01 00:24:35              1.0           2.40   \n",
       "1  2022-03-01 00:47:52   2022-03-01 01:00:08              1.0           2.20   \n",
       "2  2022-03-01 00:02:46   2022-03-01 00:46:43              1.0          19.78   \n",
       "3  2022-03-01 00:52:43   2022-03-01 01:03:40              2.0           2.94   \n",
       "4  2022-03-01 00:15:35   2022-03-01 00:34:13              1.0           8.57   \n",
       "\n",
       "   RatecodeID  PULocationID  DOLocationID  fare_amount  tip_amount  \\\n",
       "0         1.0            90           209         10.0        0.00   \n",
       "1         1.0           148           234         10.5        0.00   \n",
       "2         2.0           132           249         52.0       11.06   \n",
       "3         1.0           211            66         11.0        4.44   \n",
       "4         1.0           138           197         25.0        5.51   \n",
       "\n",
       "   total_amount  ...  dropoff_time trip_duration_seconds  \\\n",
       "0         13.80  ...      00:24:35                 687.0   \n",
       "1         14.30  ...      01:00:08                 736.0   \n",
       "2         67.61  ...      00:46:43                2637.0   \n",
       "3         19.24  ...      01:03:40                 657.0   \n",
       "4         33.06  ...      00:34:13                1118.0   \n",
       "\n",
       "  trip_duration_minutes pickup_hour pickup_month  pickup_day_no  day_of_week  \\\n",
       "0                  11.0           0            3              1      Weekday   \n",
       "1                  12.0           0            3              1      Weekday   \n",
       "2                  43.0           0            3              1      Weekday   \n",
       "3                  10.0           0            3              1      Weekday   \n",
       "4                  18.0           0            3              1      Weekday   \n",
       "\n",
       "         pickup_zone        dropoff_zone    bins  \n",
       "0           Flatiron             Seaport     Low  \n",
       "1    Lower East Side            Union Sq     Low  \n",
       "2        JFK Airport        West Village    High  \n",
       "3               SoHo  DUMBO/Vinegar Hill     Low  \n",
       "4  LaGuardia Airport       Richmond Hill  Medium  \n",
       "\n",
       "[5 rows x 24 columns]"
      ]
     },
     "execution_count": 73,
     "metadata": {},
     "output_type": "execute_result"
    }
   ],
   "source": [
    "#renaming categories\n",
    "df_taxi['bins'] = df_taxi['bins'].cat.rename_categories([\"Low\", \"Medium\",\"High\",\"Very High\",\"Extremely High\"])\n",
    "df_taxi.head()"
   ]
  },
  {
   "cell_type": "code",
   "execution_count": 74,
   "metadata": {},
   "outputs": [
    {
     "data": {
      "text/plain": [
       "CategoricalDtype(categories=['Low', 'Medium', 'High', 'Very High', 'Extremely High'], ordered=True)"
      ]
     },
     "execution_count": 74,
     "metadata": {},
     "output_type": "execute_result"
    }
   ],
   "source": [
    "df_taxi['bins'].dtype"
   ]
  },
  {
   "cell_type": "code",
   "execution_count": 75,
   "metadata": {},
   "outputs": [],
   "source": [
    "df_taxi_sampled_2 = df_taxi.sample(n=10000)"
   ]
  },
  {
   "cell_type": "code",
   "execution_count": 76,
   "metadata": {},
   "outputs": [],
   "source": [
    "X2 = df_taxi_sampled_2[[\"PULocationID\", \"DOLocationID\", \"trip_distance\", \"passenger_count\",\"tip_amount\",\"trip_duration_minutes\",\"pickup_day_no\",\"pickup_month\",\"pickup_hour\",]]"
   ]
  },
  {
   "cell_type": "code",
   "execution_count": null,
   "metadata": {},
   "outputs": [],
   "source": [
    "#lightgbm.LGBMClassifier"
   ]
  },
  {
   "cell_type": "code",
   "execution_count": 77,
   "metadata": {},
   "outputs": [],
   "source": [
    "y2 = df_taxi_sampled_2[\"bins\"]"
   ]
  },
  {
   "cell_type": "code",
   "execution_count": 83,
   "metadata": {},
   "outputs": [],
   "source": [
    "X_train2, X_test2, y_train2, y_test2 = train_test_split(X2, y2, test_size=0.2, random_state=25)"
   ]
  },
  {
   "cell_type": "code",
   "execution_count": 85,
   "metadata": {},
   "outputs": [
    {
     "name": "stderr",
     "output_type": "stream",
     "text": [
      "C:\\Users\\Daphne\\Anaconda3\\lib\\site-packages\\sklearn\\model_selection\\_split.py:667: UserWarning: The least populated class in y has only 1 members, which is less than n_splits=10.\n",
      "  % (min_groups, self.n_splits)), UserWarning)\n",
      "C:\\Users\\Daphne\\Anaconda3\\lib\\site-packages\\sklearn\\model_selection\\_split.py:667: UserWarning: The least populated class in y has only 1 members, which is less than n_splits=10.\n",
      "  % (min_groups, self.n_splits)), UserWarning)\n",
      "C:\\Users\\Daphne\\Anaconda3\\lib\\site-packages\\sklearn\\model_selection\\_split.py:667: UserWarning: The least populated class in y has only 1 members, which is less than n_splits=10.\n",
      "  % (min_groups, self.n_splits)), UserWarning)\n"
     ]
    },
    {
     "name": "stdout",
     "output_type": "stream",
     "text": [
      "Accuracy: 0.959 (0.010)\n"
     ]
    }
   ],
   "source": [
    "# evaluate lightgbm algorithm for classification\n",
    "# define the model\n",
    "model = LGBMClassifier()\n",
    "# evaluate the model\n",
    "cv = RepeatedStratifiedKFold(n_splits=10, n_repeats=3, random_state=1)\n",
    "n_scores = cross_val_score(model, X_train2, y_train2, scoring='accuracy', cv=cv, n_jobs=-1)\n",
    "# report performance\n",
    "print('Accuracy: %.3f (%.3f)' % (mean(n_scores), std(n_scores)))"
   ]
  },
  {
   "cell_type": "markdown",
   "metadata": {},
   "source": [
    "#### Exploring the number of trees"
   ]
  },
  {
   "cell_type": "code",
   "execution_count": 96,
   "metadata": {},
   "outputs": [],
   "source": [
    "# get a list of models to evaluate\n",
    "def get_models():\n",
    "\tmodels = dict()\n",
    "\ttrees = [3, 5, 7, 9, 11, 13]\n",
    "\tfor n in trees:\n",
    "\t\tmodels[str(n)] = LGBMClassifier(n_estimators=n)\n",
    "\treturn models\n",
    " \n",
    "# evaluate a give model using cross-validation\n",
    "def evaluate_model(model):\n",
    "\tcv = RepeatedStratifiedKFold(n_splits=10, n_repeats=3, random_state=1)\n",
    "\tscores = cross_val_score(model, X_train2, y_train2, scoring='accuracy', cv=cv, n_jobs=-1)\n",
    "\treturn scores"
   ]
  },
  {
   "cell_type": "code",
   "execution_count": 99,
   "metadata": {
    "scrolled": false
   },
   "outputs": [
    {
     "name": "stderr",
     "output_type": "stream",
     "text": [
      "C:\\Users\\Daphne\\Anaconda3\\lib\\site-packages\\sklearn\\model_selection\\_split.py:667: UserWarning: The least populated class in y has only 1 members, which is less than n_splits=10.\n",
      "  % (min_groups, self.n_splits)), UserWarning)\n",
      "C:\\Users\\Daphne\\Anaconda3\\lib\\site-packages\\sklearn\\model_selection\\_split.py:667: UserWarning: The least populated class in y has only 1 members, which is less than n_splits=10.\n",
      "  % (min_groups, self.n_splits)), UserWarning)\n",
      "C:\\Users\\Daphne\\Anaconda3\\lib\\site-packages\\sklearn\\model_selection\\_split.py:667: UserWarning: The least populated class in y has only 1 members, which is less than n_splits=10.\n",
      "  % (min_groups, self.n_splits)), UserWarning)\n"
     ]
    },
    {
     "name": "stdout",
     "output_type": "stream",
     "text": [
      ">3 0.921 (0.022)\n"
     ]
    },
    {
     "name": "stderr",
     "output_type": "stream",
     "text": [
      "C:\\Users\\Daphne\\Anaconda3\\lib\\site-packages\\sklearn\\model_selection\\_split.py:667: UserWarning: The least populated class in y has only 1 members, which is less than n_splits=10.\n",
      "  % (min_groups, self.n_splits)), UserWarning)\n",
      "C:\\Users\\Daphne\\Anaconda3\\lib\\site-packages\\sklearn\\model_selection\\_split.py:667: UserWarning: The least populated class in y has only 1 members, which is less than n_splits=10.\n",
      "  % (min_groups, self.n_splits)), UserWarning)\n",
      "C:\\Users\\Daphne\\Anaconda3\\lib\\site-packages\\sklearn\\model_selection\\_split.py:667: UserWarning: The least populated class in y has only 1 members, which is less than n_splits=10.\n",
      "  % (min_groups, self.n_splits)), UserWarning)\n"
     ]
    },
    {
     "name": "stdout",
     "output_type": "stream",
     "text": [
      ">5 0.969 (0.006)\n"
     ]
    },
    {
     "name": "stderr",
     "output_type": "stream",
     "text": [
      "C:\\Users\\Daphne\\Anaconda3\\lib\\site-packages\\sklearn\\model_selection\\_split.py:667: UserWarning: The least populated class in y has only 1 members, which is less than n_splits=10.\n",
      "  % (min_groups, self.n_splits)), UserWarning)\n",
      "C:\\Users\\Daphne\\Anaconda3\\lib\\site-packages\\sklearn\\model_selection\\_split.py:667: UserWarning: The least populated class in y has only 1 members, which is less than n_splits=10.\n",
      "  % (min_groups, self.n_splits)), UserWarning)\n",
      "C:\\Users\\Daphne\\Anaconda3\\lib\\site-packages\\sklearn\\model_selection\\_split.py:667: UserWarning: The least populated class in y has only 1 members, which is less than n_splits=10.\n",
      "  % (min_groups, self.n_splits)), UserWarning)\n"
     ]
    },
    {
     "name": "stdout",
     "output_type": "stream",
     "text": [
      ">7 0.974 (0.005)\n"
     ]
    },
    {
     "name": "stderr",
     "output_type": "stream",
     "text": [
      "C:\\Users\\Daphne\\Anaconda3\\lib\\site-packages\\sklearn\\model_selection\\_split.py:667: UserWarning: The least populated class in y has only 1 members, which is less than n_splits=10.\n",
      "  % (min_groups, self.n_splits)), UserWarning)\n",
      "C:\\Users\\Daphne\\Anaconda3\\lib\\site-packages\\sklearn\\model_selection\\_split.py:667: UserWarning: The least populated class in y has only 1 members, which is less than n_splits=10.\n",
      "  % (min_groups, self.n_splits)), UserWarning)\n",
      "C:\\Users\\Daphne\\Anaconda3\\lib\\site-packages\\sklearn\\model_selection\\_split.py:667: UserWarning: The least populated class in y has only 1 members, which is less than n_splits=10.\n",
      "  % (min_groups, self.n_splits)), UserWarning)\n"
     ]
    },
    {
     "name": "stdout",
     "output_type": "stream",
     "text": [
      ">9 0.977 (0.006)\n"
     ]
    },
    {
     "name": "stderr",
     "output_type": "stream",
     "text": [
      "C:\\Users\\Daphne\\Anaconda3\\lib\\site-packages\\sklearn\\model_selection\\_split.py:667: UserWarning: The least populated class in y has only 1 members, which is less than n_splits=10.\n",
      "  % (min_groups, self.n_splits)), UserWarning)\n",
      "C:\\Users\\Daphne\\Anaconda3\\lib\\site-packages\\sklearn\\model_selection\\_split.py:667: UserWarning: The least populated class in y has only 1 members, which is less than n_splits=10.\n",
      "  % (min_groups, self.n_splits)), UserWarning)\n",
      "C:\\Users\\Daphne\\Anaconda3\\lib\\site-packages\\sklearn\\model_selection\\_split.py:667: UserWarning: The least populated class in y has only 1 members, which is less than n_splits=10.\n",
      "  % (min_groups, self.n_splits)), UserWarning)\n"
     ]
    },
    {
     "name": "stdout",
     "output_type": "stream",
     "text": [
      ">11 0.977 (0.005)\n"
     ]
    },
    {
     "name": "stderr",
     "output_type": "stream",
     "text": [
      "C:\\Users\\Daphne\\Anaconda3\\lib\\site-packages\\sklearn\\model_selection\\_split.py:667: UserWarning: The least populated class in y has only 1 members, which is less than n_splits=10.\n",
      "  % (min_groups, self.n_splits)), UserWarning)\n",
      "C:\\Users\\Daphne\\Anaconda3\\lib\\site-packages\\sklearn\\model_selection\\_split.py:667: UserWarning: The least populated class in y has only 1 members, which is less than n_splits=10.\n",
      "  % (min_groups, self.n_splits)), UserWarning)\n",
      "C:\\Users\\Daphne\\Anaconda3\\lib\\site-packages\\sklearn\\model_selection\\_split.py:667: UserWarning: The least populated class in y has only 1 members, which is less than n_splits=10.\n",
      "  % (min_groups, self.n_splits)), UserWarning)\n"
     ]
    },
    {
     "name": "stdout",
     "output_type": "stream",
     "text": [
      ">13 0.977 (0.004)\n"
     ]
    },
    {
     "data": {
      "image/png": "[encoded data removed]",
      "text/plain": [
       "<Figure size 432x288 with 1 Axes>"
      ]
     },
     "metadata": {
      "needs_background": "light"
     },
     "output_type": "display_data"
    }
   ],
   "source": [
    "# get the models to evaluate\n",
    "models = get_models()\n",
    "# evaluate the models and store results\n",
    "results, names = list(), list()\n",
    "for name, model in models.items():\n",
    "\tscores = evaluate_model(model)\n",
    "\tresults.append(scores)\n",
    "\tnames.append(name)\n",
    "\tprint('>%s %.3f (%.3f)' % (name, mean(scores), std(scores)))\n",
    "# plot model performance for comparison\n",
    "pyplot.boxplot(results, labels=names, showmeans=True)\n",
    "pyplot.show()"
   ]
  },
  {
   "cell_type": "markdown",
   "metadata": {},
   "source": [
    "#### Exploring the tree depth"
   ]
  },
  {
   "cell_type": "code",
   "execution_count": 100,
   "metadata": {
    "scrolled": false
   },
   "outputs": [
    {
     "name": "stderr",
     "output_type": "stream",
     "text": [
      "C:\\Users\\Daphne\\Anaconda3\\lib\\site-packages\\sklearn\\model_selection\\_split.py:667: UserWarning: The least populated class in y has only 1 members, which is less than n_splits=10.\n",
      "  % (min_groups, self.n_splits)), UserWarning)\n",
      "C:\\Users\\Daphne\\Anaconda3\\lib\\site-packages\\sklearn\\model_selection\\_split.py:667: UserWarning: The least populated class in y has only 1 members, which is less than n_splits=10.\n",
      "  % (min_groups, self.n_splits)), UserWarning)\n",
      "C:\\Users\\Daphne\\Anaconda3\\lib\\site-packages\\sklearn\\model_selection\\_split.py:667: UserWarning: The least populated class in y has only 1 members, which is less than n_splits=10.\n",
      "  % (min_groups, self.n_splits)), UserWarning)\n"
     ]
    },
    {
     "name": "stdout",
     "output_type": "stream",
     "text": [
      ">1 0.977 (0.006)\n"
     ]
    },
    {
     "name": "stderr",
     "output_type": "stream",
     "text": [
      "C:\\Users\\Daphne\\Anaconda3\\lib\\site-packages\\sklearn\\model_selection\\_split.py:667: UserWarning: The least populated class in y has only 1 members, which is less than n_splits=10.\n",
      "  % (min_groups, self.n_splits)), UserWarning)\n",
      "C:\\Users\\Daphne\\Anaconda3\\lib\\site-packages\\sklearn\\model_selection\\_split.py:667: UserWarning: The least populated class in y has only 1 members, which is less than n_splits=10.\n",
      "  % (min_groups, self.n_splits)), UserWarning)\n",
      "C:\\Users\\Daphne\\Anaconda3\\lib\\site-packages\\sklearn\\model_selection\\_split.py:667: UserWarning: The least populated class in y has only 1 members, which is less than n_splits=10.\n",
      "  % (min_groups, self.n_splits)), UserWarning)\n"
     ]
    },
    {
     "name": "stdout",
     "output_type": "stream",
     "text": [
      ">2 0.979 (0.005)\n"
     ]
    },
    {
     "name": "stderr",
     "output_type": "stream",
     "text": [
      "C:\\Users\\Daphne\\Anaconda3\\lib\\site-packages\\sklearn\\model_selection\\_split.py:667: UserWarning: The least populated class in y has only 1 members, which is less than n_splits=10.\n",
      "  % (min_groups, self.n_splits)), UserWarning)\n",
      "C:\\Users\\Daphne\\Anaconda3\\lib\\site-packages\\sklearn\\model_selection\\_split.py:667: UserWarning: The least populated class in y has only 1 members, which is less than n_splits=10.\n",
      "  % (min_groups, self.n_splits)), UserWarning)\n",
      "C:\\Users\\Daphne\\Anaconda3\\lib\\site-packages\\sklearn\\model_selection\\_split.py:667: UserWarning: The least populated class in y has only 1 members, which is less than n_splits=10.\n",
      "  % (min_groups, self.n_splits)), UserWarning)\n"
     ]
    },
    {
     "name": "stdout",
     "output_type": "stream",
     "text": [
      ">3 0.968 (0.034)\n"
     ]
    },
    {
     "name": "stderr",
     "output_type": "stream",
     "text": [
      "C:\\Users\\Daphne\\Anaconda3\\lib\\site-packages\\sklearn\\model_selection\\_split.py:667: UserWarning: The least populated class in y has only 1 members, which is less than n_splits=10.\n",
      "  % (min_groups, self.n_splits)), UserWarning)\n",
      "C:\\Users\\Daphne\\Anaconda3\\lib\\site-packages\\sklearn\\model_selection\\_split.py:667: UserWarning: The least populated class in y has only 1 members, which is less than n_splits=10.\n",
      "  % (min_groups, self.n_splits)), UserWarning)\n",
      "C:\\Users\\Daphne\\Anaconda3\\lib\\site-packages\\sklearn\\model_selection\\_split.py:667: UserWarning: The least populated class in y has only 1 members, which is less than n_splits=10.\n",
      "  % (min_groups, self.n_splits)), UserWarning)\n"
     ]
    },
    {
     "name": "stdout",
     "output_type": "stream",
     "text": [
      ">4 0.970 (0.007)\n"
     ]
    },
    {
     "name": "stderr",
     "output_type": "stream",
     "text": [
      "C:\\Users\\Daphne\\Anaconda3\\lib\\site-packages\\sklearn\\model_selection\\_split.py:667: UserWarning: The least populated class in y has only 1 members, which is less than n_splits=10.\n",
      "  % (min_groups, self.n_splits)), UserWarning)\n",
      "C:\\Users\\Daphne\\Anaconda3\\lib\\site-packages\\sklearn\\model_selection\\_split.py:667: UserWarning: The least populated class in y has only 1 members, which is less than n_splits=10.\n",
      "  % (min_groups, self.n_splits)), UserWarning)\n",
      "C:\\Users\\Daphne\\Anaconda3\\lib\\site-packages\\sklearn\\model_selection\\_split.py:667: UserWarning: The least populated class in y has only 1 members, which is less than n_splits=10.\n",
      "  % (min_groups, self.n_splits)), UserWarning)\n"
     ]
    },
    {
     "name": "stdout",
     "output_type": "stream",
     "text": [
      ">5 0.968 (0.008)\n"
     ]
    },
    {
     "name": "stderr",
     "output_type": "stream",
     "text": [
      "C:\\Users\\Daphne\\Anaconda3\\lib\\site-packages\\sklearn\\model_selection\\_split.py:667: UserWarning: The least populated class in y has only 1 members, which is less than n_splits=10.\n",
      "  % (min_groups, self.n_splits)), UserWarning)\n",
      "C:\\Users\\Daphne\\Anaconda3\\lib\\site-packages\\sklearn\\model_selection\\_split.py:667: UserWarning: The least populated class in y has only 1 members, which is less than n_splits=10.\n",
      "  % (min_groups, self.n_splits)), UserWarning)\n",
      "C:\\Users\\Daphne\\Anaconda3\\lib\\site-packages\\sklearn\\model_selection\\_split.py:667: UserWarning: The least populated class in y has only 1 members, which is less than n_splits=10.\n",
      "  % (min_groups, self.n_splits)), UserWarning)\n"
     ]
    },
    {
     "name": "stdout",
     "output_type": "stream",
     "text": [
      ">6 0.963 (0.011)\n"
     ]
    },
    {
     "name": "stderr",
     "output_type": "stream",
     "text": [
      "C:\\Users\\Daphne\\Anaconda3\\lib\\site-packages\\sklearn\\model_selection\\_split.py:667: UserWarning: The least populated class in y has only 1 members, which is less than n_splits=10.\n",
      "  % (min_groups, self.n_splits)), UserWarning)\n",
      "C:\\Users\\Daphne\\Anaconda3\\lib\\site-packages\\sklearn\\model_selection\\_split.py:667: UserWarning: The least populated class in y has only 1 members, which is less than n_splits=10.\n",
      "  % (min_groups, self.n_splits)), UserWarning)\n",
      "C:\\Users\\Daphne\\Anaconda3\\lib\\site-packages\\sklearn\\model_selection\\_split.py:667: UserWarning: The least populated class in y has only 1 members, which is less than n_splits=10.\n",
      "  % (min_groups, self.n_splits)), UserWarning)\n"
     ]
    },
    {
     "name": "stdout",
     "output_type": "stream",
     "text": [
      ">7 0.960 (0.013)\n"
     ]
    },
    {
     "name": "stderr",
     "output_type": "stream",
     "text": [
      "C:\\Users\\Daphne\\Anaconda3\\lib\\site-packages\\sklearn\\model_selection\\_split.py:667: UserWarning: The least populated class in y has only 1 members, which is less than n_splits=10.\n",
      "  % (min_groups, self.n_splits)), UserWarning)\n",
      "C:\\Users\\Daphne\\Anaconda3\\lib\\site-packages\\sklearn\\model_selection\\_split.py:667: UserWarning: The least populated class in y has only 1 members, which is less than n_splits=10.\n",
      "  % (min_groups, self.n_splits)), UserWarning)\n",
      "C:\\Users\\Daphne\\Anaconda3\\lib\\site-packages\\sklearn\\model_selection\\_split.py:667: UserWarning: The least populated class in y has only 1 members, which is less than n_splits=10.\n",
      "  % (min_groups, self.n_splits)), UserWarning)\n"
     ]
    },
    {
     "name": "stdout",
     "output_type": "stream",
     "text": [
      ">8 0.959 (0.010)\n"
     ]
    },
    {
     "name": "stderr",
     "output_type": "stream",
     "text": [
      "C:\\Users\\Daphne\\Anaconda3\\lib\\site-packages\\sklearn\\model_selection\\_split.py:667: UserWarning: The least populated class in y has only 1 members, which is less than n_splits=10.\n",
      "  % (min_groups, self.n_splits)), UserWarning)\n",
      "C:\\Users\\Daphne\\Anaconda3\\lib\\site-packages\\sklearn\\model_selection\\_split.py:667: UserWarning: The least populated class in y has only 1 members, which is less than n_splits=10.\n",
      "  % (min_groups, self.n_splits)), UserWarning)\n",
      "C:\\Users\\Daphne\\Anaconda3\\lib\\site-packages\\sklearn\\model_selection\\_split.py:667: UserWarning: The least populated class in y has only 1 members, which is less than n_splits=10.\n",
      "  % (min_groups, self.n_splits)), UserWarning)\n"
     ]
    },
    {
     "name": "stdout",
     "output_type": "stream",
     "text": [
      ">9 0.957 (0.011)\n"
     ]
    },
    {
     "name": "stderr",
     "output_type": "stream",
     "text": [
      "C:\\Users\\Daphne\\Anaconda3\\lib\\site-packages\\sklearn\\model_selection\\_split.py:667: UserWarning: The least populated class in y has only 1 members, which is less than n_splits=10.\n",
      "  % (min_groups, self.n_splits)), UserWarning)\n",
      "C:\\Users\\Daphne\\Anaconda3\\lib\\site-packages\\sklearn\\model_selection\\_split.py:667: UserWarning: The least populated class in y has only 1 members, which is less than n_splits=10.\n",
      "  % (min_groups, self.n_splits)), UserWarning)\n",
      "C:\\Users\\Daphne\\Anaconda3\\lib\\site-packages\\sklearn\\model_selection\\_split.py:667: UserWarning: The least populated class in y has only 1 members, which is less than n_splits=10.\n",
      "  % (min_groups, self.n_splits)), UserWarning)\n"
     ]
    },
    {
     "name": "stdout",
     "output_type": "stream",
     "text": [
      ">10 0.955 (0.010)\n"
     ]
    },
    {
     "data": {
      "image/png": "[encoded data removed]",
      "text/plain": [
       "<Figure size 432x288 with 1 Axes>"
      ]
     },
     "metadata": {
      "needs_background": "light"
     },
     "output_type": "display_data"
    }
   ],
   "source": [
    "# get a list of models to evaluate\n",
    "def get_models():\n",
    "\tmodels = dict()\n",
    "\tfor i in range(1,11):\n",
    "\t\tmodels[str(i)] = LGBMClassifier(max_depth=i, num_leaves=2**i)\n",
    "\treturn models\n",
    " \n",
    "# evaluate a give model using cross-validation\n",
    "def evaluate_model(model):\n",
    "\tcv = RepeatedStratifiedKFold(n_splits=10, n_repeats=3, random_state=1)\n",
    "\tscores = cross_val_score(model, X_train2, y_train2, scoring='accuracy', cv=cv, n_jobs=-1)\n",
    "\treturn scores\n",
    " \n",
    "# get the models to evaluate\n",
    "models = get_models()\n",
    "# evaluate the models and store results\n",
    "results, names = list(), list()\n",
    "for name, model in models.items():\n",
    "\tscores = evaluate_model(model)\n",
    "\tresults.append(scores)\n",
    "\tnames.append(name)\n",
    "\tprint('>%s %.3f (%.3f)' % (name, mean(scores), std(scores)))\n",
    "# plot model performance for comparison\n",
    "pyplot.boxplot(results, labels=names, showmeans=True)\n",
    "pyplot.show()"
   ]
  },
  {
   "cell_type": "markdown",
   "metadata": {},
   "source": [
    "#### Exploring Boosting type"
   ]
  },
  {
   "cell_type": "code",
   "execution_count": 101,
   "metadata": {},
   "outputs": [
    {
     "name": "stderr",
     "output_type": "stream",
     "text": [
      "C:\\Users\\Daphne\\Anaconda3\\lib\\site-packages\\sklearn\\model_selection\\_split.py:667: UserWarning: The least populated class in y has only 1 members, which is less than n_splits=10.\n",
      "  % (min_groups, self.n_splits)), UserWarning)\n",
      "C:\\Users\\Daphne\\Anaconda3\\lib\\site-packages\\sklearn\\model_selection\\_split.py:667: UserWarning: The least populated class in y has only 1 members, which is less than n_splits=10.\n",
      "  % (min_groups, self.n_splits)), UserWarning)\n",
      "C:\\Users\\Daphne\\Anaconda3\\lib\\site-packages\\sklearn\\model_selection\\_split.py:667: UserWarning: The least populated class in y has only 1 members, which is less than n_splits=10.\n",
      "  % (min_groups, self.n_splits)), UserWarning)\n"
     ]
    },
    {
     "name": "stdout",
     "output_type": "stream",
     "text": [
      ">gbdt 0.959 (0.010)\n"
     ]
    },
    {
     "name": "stderr",
     "output_type": "stream",
     "text": [
      "C:\\Users\\Daphne\\Anaconda3\\lib\\site-packages\\sklearn\\model_selection\\_split.py:667: UserWarning: The least populated class in y has only 1 members, which is less than n_splits=10.\n",
      "  % (min_groups, self.n_splits)), UserWarning)\n",
      "C:\\Users\\Daphne\\Anaconda3\\lib\\site-packages\\sklearn\\model_selection\\_split.py:667: UserWarning: The least populated class in y has only 1 members, which is less than n_splits=10.\n",
      "  % (min_groups, self.n_splits)), UserWarning)\n",
      "C:\\Users\\Daphne\\Anaconda3\\lib\\site-packages\\sklearn\\model_selection\\_split.py:667: UserWarning: The least populated class in y has only 1 members, which is less than n_splits=10.\n",
      "  % (min_groups, self.n_splits)), UserWarning)\n"
     ]
    },
    {
     "name": "stdout",
     "output_type": "stream",
     "text": [
      ">dart 0.971 (0.007)\n"
     ]
    },
    {
     "name": "stderr",
     "output_type": "stream",
     "text": [
      "C:\\Users\\Daphne\\Anaconda3\\lib\\site-packages\\sklearn\\model_selection\\_split.py:667: UserWarning: The least populated class in y has only 1 members, which is less than n_splits=10.\n",
      "  % (min_groups, self.n_splits)), UserWarning)\n",
      "C:\\Users\\Daphne\\Anaconda3\\lib\\site-packages\\sklearn\\model_selection\\_split.py:667: UserWarning: The least populated class in y has only 1 members, which is less than n_splits=10.\n",
      "  % (min_groups, self.n_splits)), UserWarning)\n",
      "C:\\Users\\Daphne\\Anaconda3\\lib\\site-packages\\sklearn\\model_selection\\_split.py:667: UserWarning: The least populated class in y has only 1 members, which is less than n_splits=10.\n",
      "  % (min_groups, self.n_splits)), UserWarning)\n"
     ]
    },
    {
     "name": "stdout",
     "output_type": "stream",
     "text": [
      ">goss 0.969 (0.009)\n"
     ]
    },
    {
     "data": {
      "image/png": "[encoded data removed]",
      "text/plain": [
       "<Figure size 432x288 with 1 Axes>"
      ]
     },
     "metadata": {
      "needs_background": "light"
     },
     "output_type": "display_data"
    }
   ],
   "source": [
    "# get a list of models to evaluate\n",
    "def get_models():\n",
    "\tmodels = dict()\n",
    "\ttypes = ['gbdt', 'dart', 'goss']\n",
    "\tfor t in types:\n",
    "\t\tmodels[t] = LGBMClassifier(boosting_type=t)\n",
    "\treturn models\n",
    "\n",
    "\n",
    "# get the models to evaluate\n",
    "models = get_models()\n",
    "# evaluate the models and store results\n",
    "results, names = list(), list()\n",
    "for name, model in models.items():\n",
    "\tscores = evaluate_model(model)\n",
    "\tresults.append(scores)\n",
    "\tnames.append(name)\n",
    "\tprint('>%s %.3f (%.3f)' % (name, mean(scores), std(scores)))\n",
    "# plot model performance for comparison\n",
    "pyplot.boxplot(results, labels=names, showmeans=True)\n",
    "pyplot.show()"
   ]
  },
  {
   "cell_type": "markdown",
   "metadata": {},
   "source": [
    "#### Final model predictions"
   ]
  },
  {
   "cell_type": "code",
   "execution_count": 103,
   "metadata": {},
   "outputs": [],
   "source": [
    "#FINAL MODEL, MAKE PREDICTIONS\n",
    "# make predictions using lightgbm for classification\n",
    "model = LGBMClassifier()\n",
    "# fit the model on the whole dataset\n",
    "model.fit(X_test2, y_test2)\n",
    "# make a single prediction\n",
    "yhat = model.predict(X_test2)"
   ]
  },
  {
   "cell_type": "code",
   "execution_count": 104,
   "metadata": {},
   "outputs": [
    {
     "data": {
      "text/plain": [
       "array(['Low', 'Medium', 'Low', ..., 'Low', 'Low', 'Low'], dtype=object)"
      ]
     },
     "execution_count": 104,
     "metadata": {},
     "output_type": "execute_result"
    }
   ],
   "source": [
    "yhat"
   ]
  },
  {
   "cell_type": "code",
   "execution_count": 105,
   "metadata": {
    "scrolled": true
   },
   "outputs": [
    {
     "name": "stderr",
     "output_type": "stream",
     "text": [
      "C:\\Users\\Daphne\\Anaconda3\\lib\\site-packages\\ipykernel_launcher.py:1: SettingWithCopyWarning: \n",
      "A value is trying to be set on a copy of a slice from a DataFrame.\n",
      "Try using .loc[row_indexer,col_indexer] = value instead\n",
      "\n",
      "See the caveats in the documentation: https://pandas.pydata.org/pandas-docs/stable/user_guide/indexing.html#returning-a-view-versus-a-copy\n",
      "  \"\"\"Entry point for launching an IPython kernel.\n"
     ]
    }
   ],
   "source": [
    "X_test['predicted_class'] = yhat"
   ]
  },
  {
   "cell_type": "code",
   "execution_count": 106,
   "metadata": {},
   "outputs": [
    {
     "data": {
      "text/html": [
       "<div>\n",
       "<style scoped>\n",
       "    .dataframe tbody tr th:only-of-type {\n",
       "        vertical-align: middle;\n",
       "    }\n",
       "\n",
       "    .dataframe tbody tr th {\n",
       "        vertical-align: top;\n",
       "    }\n",
       "\n",
       "    .dataframe thead th {\n",
       "        text-align: right;\n",
       "    }\n",
       "</style>\n",
       "<table border=\"1\" class=\"dataframe\">\n",
       "  <thead>\n",
       "    <tr style=\"text-align: right;\">\n",
       "      <th></th>\n",
       "      <th>PULocationID</th>\n",
       "      <th>DOLocationID</th>\n",
       "      <th>trip_distance</th>\n",
       "      <th>passenger_count</th>\n",
       "      <th>fare_amount</th>\n",
       "      <th>tip_amount</th>\n",
       "      <th>trip_duration_minutes</th>\n",
       "      <th>pickup_day_no</th>\n",
       "      <th>pickup_month</th>\n",
       "      <th>pickup_hour</th>\n",
       "      <th>predicted_class</th>\n",
       "    </tr>\n",
       "  </thead>\n",
       "  <tbody>\n",
       "    <tr>\n",
       "      <th>1897413</th>\n",
       "      <td>113</td>\n",
       "      <td>107</td>\n",
       "      <td>1.46</td>\n",
       "      <td>1.0</td>\n",
       "      <td>7.5</td>\n",
       "      <td>2.26</td>\n",
       "      <td>9.0</td>\n",
       "      <td>3</td>\n",
       "      <td>3</td>\n",
       "      <td>22</td>\n",
       "      <td>Low</td>\n",
       "    </tr>\n",
       "    <tr>\n",
       "      <th>1998173</th>\n",
       "      <td>161</td>\n",
       "      <td>231</td>\n",
       "      <td>4.34</td>\n",
       "      <td>1.0</td>\n",
       "      <td>21.5</td>\n",
       "      <td>0.00</td>\n",
       "      <td>29.0</td>\n",
       "      <td>4</td>\n",
       "      <td>3</td>\n",
       "      <td>19</td>\n",
       "      <td>Medium</td>\n",
       "    </tr>\n",
       "    <tr>\n",
       "      <th>501042</th>\n",
       "      <td>239</td>\n",
       "      <td>143</td>\n",
       "      <td>0.50</td>\n",
       "      <td>1.0</td>\n",
       "      <td>4.5</td>\n",
       "      <td>2.00</td>\n",
       "      <td>5.0</td>\n",
       "      <td>5</td>\n",
       "      <td>3</td>\n",
       "      <td>10</td>\n",
       "      <td>Low</td>\n",
       "    </tr>\n",
       "    <tr>\n",
       "      <th>1812675</th>\n",
       "      <td>237</td>\n",
       "      <td>236</td>\n",
       "      <td>1.00</td>\n",
       "      <td>1.0</td>\n",
       "      <td>8.5</td>\n",
       "      <td>2.00</td>\n",
       "      <td>12.0</td>\n",
       "      <td>3</td>\n",
       "      <td>3</td>\n",
       "      <td>10</td>\n",
       "      <td>Medium</td>\n",
       "    </tr>\n",
       "    <tr>\n",
       "      <th>47378</th>\n",
       "      <td>125</td>\n",
       "      <td>170</td>\n",
       "      <td>2.33</td>\n",
       "      <td>1.0</td>\n",
       "      <td>12.0</td>\n",
       "      <td>0.00</td>\n",
       "      <td>16.0</td>\n",
       "      <td>1</td>\n",
       "      <td>3</td>\n",
       "      <td>14</td>\n",
       "      <td>Low</td>\n",
       "    </tr>\n",
       "    <tr>\n",
       "      <th>...</th>\n",
       "      <td>...</td>\n",
       "      <td>...</td>\n",
       "      <td>...</td>\n",
       "      <td>...</td>\n",
       "      <td>...</td>\n",
       "      <td>...</td>\n",
       "      <td>...</td>\n",
       "      <td>...</td>\n",
       "      <td>...</td>\n",
       "      <td>...</td>\n",
       "      <td>...</td>\n",
       "    </tr>\n",
       "    <tr>\n",
       "      <th>1927369</th>\n",
       "      <td>137</td>\n",
       "      <td>249</td>\n",
       "      <td>2.20</td>\n",
       "      <td>1.0</td>\n",
       "      <td>11.0</td>\n",
       "      <td>3.55</td>\n",
       "      <td>13.0</td>\n",
       "      <td>4</td>\n",
       "      <td>3</td>\n",
       "      <td>9</td>\n",
       "      <td>Low</td>\n",
       "    </tr>\n",
       "    <tr>\n",
       "      <th>1886531</th>\n",
       "      <td>249</td>\n",
       "      <td>48</td>\n",
       "      <td>3.30</td>\n",
       "      <td>1.0</td>\n",
       "      <td>14.5</td>\n",
       "      <td>4.55</td>\n",
       "      <td>19.0</td>\n",
       "      <td>3</td>\n",
       "      <td>3</td>\n",
       "      <td>21</td>\n",
       "      <td>High</td>\n",
       "    </tr>\n",
       "    <tr>\n",
       "      <th>2994165</th>\n",
       "      <td>161</td>\n",
       "      <td>144</td>\n",
       "      <td>2.69</td>\n",
       "      <td>1.0</td>\n",
       "      <td>13.5</td>\n",
       "      <td>3.36</td>\n",
       "      <td>17.0</td>\n",
       "      <td>6</td>\n",
       "      <td>3</td>\n",
       "      <td>16</td>\n",
       "      <td>Low</td>\n",
       "    </tr>\n",
       "    <tr>\n",
       "      <th>2113114</th>\n",
       "      <td>263</td>\n",
       "      <td>141</td>\n",
       "      <td>1.40</td>\n",
       "      <td>1.0</td>\n",
       "      <td>6.5</td>\n",
       "      <td>1.47</td>\n",
       "      <td>6.0</td>\n",
       "      <td>5</td>\n",
       "      <td>3</td>\n",
       "      <td>19</td>\n",
       "      <td>Low</td>\n",
       "    </tr>\n",
       "    <tr>\n",
       "      <th>2838386</th>\n",
       "      <td>229</td>\n",
       "      <td>211</td>\n",
       "      <td>3.30</td>\n",
       "      <td>3.0</td>\n",
       "      <td>17.0</td>\n",
       "      <td>4.05</td>\n",
       "      <td>25.0</td>\n",
       "      <td>5</td>\n",
       "      <td>3</td>\n",
       "      <td>11</td>\n",
       "      <td>Low</td>\n",
       "    </tr>\n",
       "  </tbody>\n",
       "</table>\n",
       "<p>2000 rows × 11 columns</p>\n",
       "</div>"
      ],
      "text/plain": [
       "         PULocationID  DOLocationID  trip_distance  passenger_count  \\\n",
       "1897413           113           107           1.46              1.0   \n",
       "1998173           161           231           4.34              1.0   \n",
       "501042            239           143           0.50              1.0   \n",
       "1812675           237           236           1.00              1.0   \n",
       "47378             125           170           2.33              1.0   \n",
       "...               ...           ...            ...              ...   \n",
       "1927369           137           249           2.20              1.0   \n",
       "1886531           249            48           3.30              1.0   \n",
       "2994165           161           144           2.69              1.0   \n",
       "2113114           263           141           1.40              1.0   \n",
       "2838386           229           211           3.30              3.0   \n",
       "\n",
       "         fare_amount  tip_amount  trip_duration_minutes  pickup_day_no  \\\n",
       "1897413          7.5        2.26                    9.0              3   \n",
       "1998173         21.5        0.00                   29.0              4   \n",
       "501042           4.5        2.00                    5.0              5   \n",
       "1812675          8.5        2.00                   12.0              3   \n",
       "47378           12.0        0.00                   16.0              1   \n",
       "...              ...         ...                    ...            ...   \n",
       "1927369         11.0        3.55                   13.0              4   \n",
       "1886531         14.5        4.55                   19.0              3   \n",
       "2994165         13.5        3.36                   17.0              6   \n",
       "2113114          6.5        1.47                    6.0              5   \n",
       "2838386         17.0        4.05                   25.0              5   \n",
       "\n",
       "         pickup_month  pickup_hour predicted_class  \n",
       "1897413             3           22             Low  \n",
       "1998173             3           19          Medium  \n",
       "501042              3           10             Low  \n",
       "1812675             3           10          Medium  \n",
       "47378               3           14             Low  \n",
       "...               ...          ...             ...  \n",
       "1927369             3            9             Low  \n",
       "1886531             3           21            High  \n",
       "2994165             3           16             Low  \n",
       "2113114             3           19             Low  \n",
       "2838386             3           11             Low  \n",
       "\n",
       "[2000 rows x 11 columns]"
      ]
     },
     "execution_count": 106,
     "metadata": {},
     "output_type": "execute_result"
    }
   ],
   "source": [
    "X_test"
   ]
  },
  {
   "cell_type": "code",
   "execution_count": 125,
   "metadata": {},
   "outputs": [
    {
     "data": {
      "text/html": [
       "<div>\n",
       "<style scoped>\n",
       "    .dataframe tbody tr th:only-of-type {\n",
       "        vertical-align: middle;\n",
       "    }\n",
       "\n",
       "    .dataframe tbody tr th {\n",
       "        vertical-align: top;\n",
       "    }\n",
       "\n",
       "    .dataframe thead th {\n",
       "        text-align: right;\n",
       "    }\n",
       "</style>\n",
       "<table border=\"1\" class=\"dataframe\">\n",
       "  <thead>\n",
       "    <tr style=\"text-align: right;\">\n",
       "      <th></th>\n",
       "      <th>Features</th>\n",
       "      <th>Importance</th>\n",
       "    </tr>\n",
       "  </thead>\n",
       "  <tbody>\n",
       "    <tr>\n",
       "      <th>0</th>\n",
       "      <td>PULocationID</td>\n",
       "      <td>670</td>\n",
       "    </tr>\n",
       "    <tr>\n",
       "      <th>1</th>\n",
       "      <td>DOLocationID</td>\n",
       "      <td>1222</td>\n",
       "    </tr>\n",
       "    <tr>\n",
       "      <th>2</th>\n",
       "      <td>trip_distance</td>\n",
       "      <td>2895</td>\n",
       "    </tr>\n",
       "    <tr>\n",
       "      <th>3</th>\n",
       "      <td>passenger_count</td>\n",
       "      <td>99</td>\n",
       "    </tr>\n",
       "    <tr>\n",
       "      <th>4</th>\n",
       "      <td>tip_amount</td>\n",
       "      <td>2577</td>\n",
       "    </tr>\n",
       "    <tr>\n",
       "      <th>5</th>\n",
       "      <td>trip_duration_minutes</td>\n",
       "      <td>2177</td>\n",
       "    </tr>\n",
       "    <tr>\n",
       "      <th>6</th>\n",
       "      <td>pickup_day_no</td>\n",
       "      <td>429</td>\n",
       "    </tr>\n",
       "    <tr>\n",
       "      <th>7</th>\n",
       "      <td>pickup_month</td>\n",
       "      <td>0</td>\n",
       "    </tr>\n",
       "    <tr>\n",
       "      <th>8</th>\n",
       "      <td>pickup_hour</td>\n",
       "      <td>716</td>\n",
       "    </tr>\n",
       "  </tbody>\n",
       "</table>\n",
       "</div>"
      ],
      "text/plain": [
       "                Features  Importance\n",
       "0           PULocationID         670\n",
       "1           DOLocationID        1222\n",
       "2          trip_distance        2895\n",
       "3        passenger_count          99\n",
       "4             tip_amount        2577\n",
       "5  trip_duration_minutes        2177\n",
       "6          pickup_day_no         429\n",
       "7           pickup_month           0\n",
       "8            pickup_hour         716"
      ]
     },
     "execution_count": 125,
     "metadata": {},
     "output_type": "execute_result"
    }
   ],
   "source": [
    "data = X2.columns.to_list()\n",
    "df = pd.DataFrame(data, columns=['Features'])\n",
    "df['Importance'] = model.feature_importances_\n",
    "df"
   ]
  },
  {
   "cell_type": "code",
   "execution_count": 128,
   "metadata": {},
   "outputs": [],
   "source": [
    "def plotImp(model, X , num = 20, fig_size = (40, 20)):\n",
    "    feature_imp = pd.DataFrame({'Value':model.feature_importances_,'Feature':X.columns})\n",
    "    plt.figure(figsize=fig_size)\n",
    "    sns.set(font_scale = 5)\n",
    "    sns.barplot(x=\"Value\", y=\"Feature\", data=feature_imp.sort_values(by=\"Value\", \n",
    "                                                        ascending=False)[0:num])\n",
    "    plt.title('LightGBM Features (avg over folds)')\n",
    "    plt.tight_layout()\n",
    "    plt.savefig('lgbm_importances-01.png')\n",
    "    plt.show()"
   ]
  },
  {
   "cell_type": "code",
   "execution_count": 129,
   "metadata": {},
   "outputs": [
    {
     "data": {
      "image/png": "[encoded data removed]",
      "text/plain": [
       "<Figure size 2880x1440 with 1 Axes>"
      ]
     },
     "metadata": {
      "needs_background": "light"
     },
     "output_type": "display_data"
    }
   ],
   "source": [
    "plotImp(model, X_test2)"
   ]
  },
  {
   "cell_type": "code",
   "execution_count": null,
   "metadata": {},
   "outputs": [],
   "source": []
  },
  {
   "cell_type": "code",
   "execution_count": null,
   "metadata": {},
   "outputs": [],
   "source": []
  },
  {
   "cell_type": "code",
   "execution_count": null,
   "metadata": {},
   "outputs": [],
   "source": []
  },
  {
   "cell_type": "code",
   "execution_count": null,
   "metadata": {},
   "outputs": [],
   "source": []
  },
  {
   "cell_type": "code",
   "execution_count": null,
   "metadata": {},
   "outputs": [],
   "source": []
  },
  {
   "cell_type": "markdown",
   "metadata": {},
   "source": [
    "## Predicting trip_distance"
   ]
  },
  {
   "cell_type": "code",
   "execution_count": 151,
   "metadata": {},
   "outputs": [],
   "source": [
    "#select only the necessary columns as X\n",
    "X = df_taxi_sampled[['passenger_count', 'PULocationID', 'DOLocationID',\n",
    "       'fare_amount', 'tip_amount', 'total_amount', 'tip_percent',\n",
    "       'trip_duration_minutes', 'pickup_hour',\n",
    "       'pickup_month', 'pickup_day_no']]"
   ]
  },
  {
   "cell_type": "code",
   "execution_count": 152,
   "metadata": {},
   "outputs": [
    {
     "data": {
      "text/plain": [
       "passenger_count          float64\n",
       "PULocationID               int64\n",
       "DOLocationID               int64\n",
       "fare_amount              float64\n",
       "tip_amount               float64\n",
       "total_amount             float64\n",
       "tip_percent              float64\n",
       "trip_duration_minutes    float64\n",
       "pickup_hour                int64\n",
       "pickup_month               int64\n",
       "pickup_day_no              int64\n",
       "dtype: object"
      ]
     },
     "execution_count": 152,
     "metadata": {},
     "output_type": "execute_result"
    }
   ],
   "source": [
    "X.dtypes"
   ]
  },
  {
   "cell_type": "code",
   "execution_count": 153,
   "metadata": {},
   "outputs": [],
   "source": [
    "y = df_taxi_sampled[\"trip_distance\"]"
   ]
  },
  {
   "cell_type": "code",
   "execution_count": 154,
   "metadata": {},
   "outputs": [
    {
     "data": {
      "text/plain": [
       "dtype('float64')"
      ]
     },
     "execution_count": 154,
     "metadata": {},
     "output_type": "execute_result"
    }
   ],
   "source": [
    "y.dtype"
   ]
  },
  {
   "cell_type": "code",
   "execution_count": 155,
   "metadata": {},
   "outputs": [],
   "source": [
    "X_train, X_test, y_train, y_test = train_test_split(X, y, test_size=0.2, random_state=25)"
   ]
  },
  {
   "cell_type": "markdown",
   "metadata": {},
   "source": [
    "#### Random forest prediction"
   ]
  },
  {
   "cell_type": "code",
   "execution_count": 156,
   "metadata": {},
   "outputs": [],
   "source": [
    "rf = RandomForestRegressor()\n",
    "rf.fit(X_train, y_train)\n",
    "rf_predict = rf.predict(X_test)"
   ]
  },
  {
   "cell_type": "code",
   "execution_count": 157,
   "metadata": {},
   "outputs": [
    {
     "name": "stderr",
     "output_type": "stream",
     "text": [
      "C:\\Users\\Daphne\\Anaconda3\\lib\\site-packages\\ipykernel_launcher.py:1: SettingWithCopyWarning: \n",
      "A value is trying to be set on a copy of a slice from a DataFrame.\n",
      "Try using .loc[row_indexer,col_indexer] = value instead\n",
      "\n",
      "See the caveats in the documentation: https://pandas.pydata.org/pandas-docs/stable/user_guide/indexing.html#returning-a-view-versus-a-copy\n",
      "  \"\"\"Entry point for launching an IPython kernel.\n"
     ]
    },
    {
     "data": {
      "text/html": [
       "<div>\n",
       "<style scoped>\n",
       "    .dataframe tbody tr th:only-of-type {\n",
       "        vertical-align: middle;\n",
       "    }\n",
       "\n",
       "    .dataframe tbody tr th {\n",
       "        vertical-align: top;\n",
       "    }\n",
       "\n",
       "    .dataframe thead th {\n",
       "        text-align: right;\n",
       "    }\n",
       "</style>\n",
       "<table border=\"1\" class=\"dataframe\">\n",
       "  <thead>\n",
       "    <tr style=\"text-align: right;\">\n",
       "      <th></th>\n",
       "      <th>passenger_count</th>\n",
       "      <th>PULocationID</th>\n",
       "      <th>DOLocationID</th>\n",
       "      <th>fare_amount</th>\n",
       "      <th>tip_amount</th>\n",
       "      <th>total_amount</th>\n",
       "      <th>tip_percent</th>\n",
       "      <th>trip_duration_minutes</th>\n",
       "      <th>pickup_hour</th>\n",
       "      <th>pickup_month</th>\n",
       "      <th>pickup_day_no</th>\n",
       "      <th>predicted_distance</th>\n",
       "    </tr>\n",
       "  </thead>\n",
       "  <tbody>\n",
       "    <tr>\n",
       "      <th>1897413</th>\n",
       "      <td>1.0</td>\n",
       "      <td>113</td>\n",
       "      <td>107</td>\n",
       "      <td>7.5</td>\n",
       "      <td>2.26</td>\n",
       "      <td>13.56</td>\n",
       "      <td>16.666667</td>\n",
       "      <td>9.0</td>\n",
       "      <td>22</td>\n",
       "      <td>3</td>\n",
       "      <td>3</td>\n",
       "      <td>0.9864</td>\n",
       "    </tr>\n",
       "    <tr>\n",
       "      <th>1998173</th>\n",
       "      <td>1.0</td>\n",
       "      <td>161</td>\n",
       "      <td>231</td>\n",
       "      <td>21.5</td>\n",
       "      <td>0.00</td>\n",
       "      <td>25.80</td>\n",
       "      <td>0.000000</td>\n",
       "      <td>29.0</td>\n",
       "      <td>19</td>\n",
       "      <td>3</td>\n",
       "      <td>4</td>\n",
       "      <td>4.6225</td>\n",
       "    </tr>\n",
       "    <tr>\n",
       "      <th>501042</th>\n",
       "      <td>1.0</td>\n",
       "      <td>239</td>\n",
       "      <td>143</td>\n",
       "      <td>4.5</td>\n",
       "      <td>2.00</td>\n",
       "      <td>9.80</td>\n",
       "      <td>20.408163</td>\n",
       "      <td>5.0</td>\n",
       "      <td>10</td>\n",
       "      <td>3</td>\n",
       "      <td>5</td>\n",
       "      <td>0.5003</td>\n",
       "    </tr>\n",
       "    <tr>\n",
       "      <th>1812675</th>\n",
       "      <td>1.0</td>\n",
       "      <td>237</td>\n",
       "      <td>236</td>\n",
       "      <td>8.5</td>\n",
       "      <td>2.00</td>\n",
       "      <td>13.80</td>\n",
       "      <td>14.492754</td>\n",
       "      <td>12.0</td>\n",
       "      <td>10</td>\n",
       "      <td>3</td>\n",
       "      <td>3</td>\n",
       "      <td>0.8738</td>\n",
       "    </tr>\n",
       "    <tr>\n",
       "      <th>47378</th>\n",
       "      <td>1.0</td>\n",
       "      <td>125</td>\n",
       "      <td>170</td>\n",
       "      <td>12.0</td>\n",
       "      <td>0.00</td>\n",
       "      <td>15.30</td>\n",
       "      <td>0.000000</td>\n",
       "      <td>16.0</td>\n",
       "      <td>14</td>\n",
       "      <td>3</td>\n",
       "      <td>1</td>\n",
       "      <td>2.4276</td>\n",
       "    </tr>\n",
       "    <tr>\n",
       "      <th>...</th>\n",
       "      <td>...</td>\n",
       "      <td>...</td>\n",
       "      <td>...</td>\n",
       "      <td>...</td>\n",
       "      <td>...</td>\n",
       "      <td>...</td>\n",
       "      <td>...</td>\n",
       "      <td>...</td>\n",
       "      <td>...</td>\n",
       "      <td>...</td>\n",
       "      <td>...</td>\n",
       "      <td>...</td>\n",
       "    </tr>\n",
       "    <tr>\n",
       "      <th>1927369</th>\n",
       "      <td>1.0</td>\n",
       "      <td>137</td>\n",
       "      <td>249</td>\n",
       "      <td>11.0</td>\n",
       "      <td>3.55</td>\n",
       "      <td>17.85</td>\n",
       "      <td>19.887955</td>\n",
       "      <td>13.0</td>\n",
       "      <td>9</td>\n",
       "      <td>3</td>\n",
       "      <td>4</td>\n",
       "      <td>2.2917</td>\n",
       "    </tr>\n",
       "    <tr>\n",
       "      <th>1886531</th>\n",
       "      <td>1.0</td>\n",
       "      <td>249</td>\n",
       "      <td>48</td>\n",
       "      <td>14.5</td>\n",
       "      <td>4.55</td>\n",
       "      <td>22.85</td>\n",
       "      <td>19.912473</td>\n",
       "      <td>19.0</td>\n",
       "      <td>21</td>\n",
       "      <td>3</td>\n",
       "      <td>3</td>\n",
       "      <td>3.2943</td>\n",
       "    </tr>\n",
       "    <tr>\n",
       "      <th>2994165</th>\n",
       "      <td>1.0</td>\n",
       "      <td>161</td>\n",
       "      <td>144</td>\n",
       "      <td>13.5</td>\n",
       "      <td>3.36</td>\n",
       "      <td>20.16</td>\n",
       "      <td>16.666667</td>\n",
       "      <td>17.0</td>\n",
       "      <td>16</td>\n",
       "      <td>3</td>\n",
       "      <td>6</td>\n",
       "      <td>3.0361</td>\n",
       "    </tr>\n",
       "    <tr>\n",
       "      <th>2113114</th>\n",
       "      <td>1.0</td>\n",
       "      <td>263</td>\n",
       "      <td>141</td>\n",
       "      <td>6.5</td>\n",
       "      <td>1.47</td>\n",
       "      <td>11.27</td>\n",
       "      <td>13.043478</td>\n",
       "      <td>6.0</td>\n",
       "      <td>19</td>\n",
       "      <td>3</td>\n",
       "      <td>5</td>\n",
       "      <td>1.2395</td>\n",
       "    </tr>\n",
       "    <tr>\n",
       "      <th>2838386</th>\n",
       "      <td>3.0</td>\n",
       "      <td>229</td>\n",
       "      <td>211</td>\n",
       "      <td>17.0</td>\n",
       "      <td>4.05</td>\n",
       "      <td>24.35</td>\n",
       "      <td>16.632444</td>\n",
       "      <td>25.0</td>\n",
       "      <td>11</td>\n",
       "      <td>3</td>\n",
       "      <td>5</td>\n",
       "      <td>3.1408</td>\n",
       "    </tr>\n",
       "  </tbody>\n",
       "</table>\n",
       "<p>2000 rows × 12 columns</p>\n",
       "</div>"
      ],
      "text/plain": [
       "         passenger_count  PULocationID  DOLocationID  fare_amount  tip_amount  \\\n",
       "1897413              1.0           113           107          7.5        2.26   \n",
       "1998173              1.0           161           231         21.5        0.00   \n",
       "501042               1.0           239           143          4.5        2.00   \n",
       "1812675              1.0           237           236          8.5        2.00   \n",
       "47378                1.0           125           170         12.0        0.00   \n",
       "...                  ...           ...           ...          ...         ...   \n",
       "1927369              1.0           137           249         11.0        3.55   \n",
       "1886531              1.0           249            48         14.5        4.55   \n",
       "2994165              1.0           161           144         13.5        3.36   \n",
       "2113114              1.0           263           141          6.5        1.47   \n",
       "2838386              3.0           229           211         17.0        4.05   \n",
       "\n",
       "         total_amount  tip_percent  trip_duration_minutes  pickup_hour  \\\n",
       "1897413         13.56    16.666667                    9.0           22   \n",
       "1998173         25.80     0.000000                   29.0           19   \n",
       "501042           9.80    20.408163                    5.0           10   \n",
       "1812675         13.80    14.492754                   12.0           10   \n",
       "47378           15.30     0.000000                   16.0           14   \n",
       "...               ...          ...                    ...          ...   \n",
       "1927369         17.85    19.887955                   13.0            9   \n",
       "1886531         22.85    19.912473                   19.0           21   \n",
       "2994165         20.16    16.666667                   17.0           16   \n",
       "2113114         11.27    13.043478                    6.0           19   \n",
       "2838386         24.35    16.632444                   25.0           11   \n",
       "\n",
       "         pickup_month  pickup_day_no  predicted_distance  \n",
       "1897413             3              3              0.9864  \n",
       "1998173             3              4              4.6225  \n",
       "501042              3              5              0.5003  \n",
       "1812675             3              3              0.8738  \n",
       "47378               3              1              2.4276  \n",
       "...               ...            ...                 ...  \n",
       "1927369             3              4              2.2917  \n",
       "1886531             3              3              3.2943  \n",
       "2994165             3              6              3.0361  \n",
       "2113114             3              5              1.2395  \n",
       "2838386             3              5              3.1408  \n",
       "\n",
       "[2000 rows x 12 columns]"
      ]
     },
     "execution_count": 157,
     "metadata": {},
     "output_type": "execute_result"
    }
   ],
   "source": [
    "X_test['predicted_distance'] = rf_predict\n",
    "X_test"
   ]
  },
  {
   "cell_type": "code",
   "execution_count": 158,
   "metadata": {},
   "outputs": [
    {
     "name": "stdout",
     "output_type": "stream",
     "text": [
      "[0.9864 4.6225 0.5003 ... 3.0361 1.2395 3.1408]\n"
     ]
    }
   ],
   "source": [
    "print(rf_predict)"
   ]
  },
  {
   "cell_type": "code",
   "execution_count": 160,
   "metadata": {},
   "outputs": [
    {
     "ename": "ValueError",
     "evalue": "Number of features of the model must match the input. Model n_features is 11 and input n_features is 12 ",
     "output_type": "error",
     "traceback": [
      "\u001b[1;31m---------------------------------------------------------------------------\u001b[0m",
      "\u001b[1;31mValueError\u001b[0m                                Traceback (most recent call last)",
      "\u001b[1;32m<ipython-input-160-6d64af64267b>\u001b[0m in \u001b[0;36m<module>\u001b[1;34m\u001b[0m\n\u001b[1;32m----> 1\u001b[1;33m \u001b[0mrf\u001b[0m\u001b[1;33m.\u001b[0m\u001b[0mscore\u001b[0m\u001b[1;33m(\u001b[0m\u001b[0mX_test\u001b[0m\u001b[1;33m,\u001b[0m \u001b[0my_test\u001b[0m\u001b[1;33m)\u001b[0m\u001b[1;33m\u001b[0m\u001b[1;33m\u001b[0m\u001b[0m\n\u001b[0m",
      "\u001b[1;32m~\\Anaconda3\\lib\\site-packages\\sklearn\\base.py\u001b[0m in \u001b[0;36mscore\u001b[1;34m(self, X, y, sample_weight)\u001b[0m\n\u001b[0;32m    420\u001b[0m         \u001b[1;32mfrom\u001b[0m \u001b[1;33m.\u001b[0m\u001b[0mmetrics\u001b[0m \u001b[1;32mimport\u001b[0m \u001b[0mr2_score\u001b[0m\u001b[1;33m\u001b[0m\u001b[1;33m\u001b[0m\u001b[0m\n\u001b[0;32m    421\u001b[0m         \u001b[1;32mfrom\u001b[0m \u001b[1;33m.\u001b[0m\u001b[0mmetrics\u001b[0m\u001b[1;33m.\u001b[0m\u001b[0m_regression\u001b[0m \u001b[1;32mimport\u001b[0m \u001b[0m_check_reg_targets\u001b[0m\u001b[1;33m\u001b[0m\u001b[1;33m\u001b[0m\u001b[0m\n\u001b[1;32m--> 422\u001b[1;33m         \u001b[0my_pred\u001b[0m \u001b[1;33m=\u001b[0m \u001b[0mself\u001b[0m\u001b[1;33m.\u001b[0m\u001b[0mpredict\u001b[0m\u001b[1;33m(\u001b[0m\u001b[0mX\u001b[0m\u001b[1;33m)\u001b[0m\u001b[1;33m\u001b[0m\u001b[1;33m\u001b[0m\u001b[0m\n\u001b[0m\u001b[0;32m    423\u001b[0m         \u001b[1;31m# XXX: Remove the check in 0.23\u001b[0m\u001b[1;33m\u001b[0m\u001b[1;33m\u001b[0m\u001b[1;33m\u001b[0m\u001b[0m\n\u001b[0;32m    424\u001b[0m         \u001b[0my_type\u001b[0m\u001b[1;33m,\u001b[0m \u001b[0m_\u001b[0m\u001b[1;33m,\u001b[0m \u001b[0m_\u001b[0m\u001b[1;33m,\u001b[0m \u001b[0m_\u001b[0m \u001b[1;33m=\u001b[0m \u001b[0m_check_reg_targets\u001b[0m\u001b[1;33m(\u001b[0m\u001b[0my\u001b[0m\u001b[1;33m,\u001b[0m \u001b[0my_pred\u001b[0m\u001b[1;33m,\u001b[0m \u001b[1;32mNone\u001b[0m\u001b[1;33m)\u001b[0m\u001b[1;33m\u001b[0m\u001b[1;33m\u001b[0m\u001b[0m\n",
      "\u001b[1;32m~\\Anaconda3\\lib\\site-packages\\sklearn\\ensemble\\_forest.py\u001b[0m in \u001b[0;36mpredict\u001b[1;34m(self, X)\u001b[0m\n\u001b[0;32m    764\u001b[0m         \u001b[0mcheck_is_fitted\u001b[0m\u001b[1;33m(\u001b[0m\u001b[0mself\u001b[0m\u001b[1;33m)\u001b[0m\u001b[1;33m\u001b[0m\u001b[1;33m\u001b[0m\u001b[0m\n\u001b[0;32m    765\u001b[0m         \u001b[1;31m# Check data\u001b[0m\u001b[1;33m\u001b[0m\u001b[1;33m\u001b[0m\u001b[1;33m\u001b[0m\u001b[0m\n\u001b[1;32m--> 766\u001b[1;33m         \u001b[0mX\u001b[0m \u001b[1;33m=\u001b[0m \u001b[0mself\u001b[0m\u001b[1;33m.\u001b[0m\u001b[0m_validate_X_predict\u001b[0m\u001b[1;33m(\u001b[0m\u001b[0mX\u001b[0m\u001b[1;33m)\u001b[0m\u001b[1;33m\u001b[0m\u001b[1;33m\u001b[0m\u001b[0m\n\u001b[0m\u001b[0;32m    767\u001b[0m \u001b[1;33m\u001b[0m\u001b[0m\n\u001b[0;32m    768\u001b[0m         \u001b[1;31m# Assign chunk of trees to jobs\u001b[0m\u001b[1;33m\u001b[0m\u001b[1;33m\u001b[0m\u001b[1;33m\u001b[0m\u001b[0m\n",
      "\u001b[1;32m~\\Anaconda3\\lib\\site-packages\\sklearn\\ensemble\\_forest.py\u001b[0m in \u001b[0;36m_validate_X_predict\u001b[1;34m(self, X)\u001b[0m\n\u001b[0;32m    410\u001b[0m         \u001b[0mcheck_is_fitted\u001b[0m\u001b[1;33m(\u001b[0m\u001b[0mself\u001b[0m\u001b[1;33m)\u001b[0m\u001b[1;33m\u001b[0m\u001b[1;33m\u001b[0m\u001b[0m\n\u001b[0;32m    411\u001b[0m \u001b[1;33m\u001b[0m\u001b[0m\n\u001b[1;32m--> 412\u001b[1;33m         \u001b[1;32mreturn\u001b[0m \u001b[0mself\u001b[0m\u001b[1;33m.\u001b[0m\u001b[0mestimators_\u001b[0m\u001b[1;33m[\u001b[0m\u001b[1;36m0\u001b[0m\u001b[1;33m]\u001b[0m\u001b[1;33m.\u001b[0m\u001b[0m_validate_X_predict\u001b[0m\u001b[1;33m(\u001b[0m\u001b[0mX\u001b[0m\u001b[1;33m,\u001b[0m \u001b[0mcheck_input\u001b[0m\u001b[1;33m=\u001b[0m\u001b[1;32mTrue\u001b[0m\u001b[1;33m)\u001b[0m\u001b[1;33m\u001b[0m\u001b[1;33m\u001b[0m\u001b[0m\n\u001b[0m\u001b[0;32m    413\u001b[0m \u001b[1;33m\u001b[0m\u001b[0m\n\u001b[0;32m    414\u001b[0m     \u001b[1;33m@\u001b[0m\u001b[0mproperty\u001b[0m\u001b[1;33m\u001b[0m\u001b[1;33m\u001b[0m\u001b[0m\n",
      "\u001b[1;32m~\\Anaconda3\\lib\\site-packages\\sklearn\\tree\\_classes.py\u001b[0m in \u001b[0;36m_validate_X_predict\u001b[1;34m(self, X, check_input)\u001b[0m\n\u001b[0;32m    389\u001b[0m                              \u001b[1;34m\"match the input. Model n_features is %s and \"\u001b[0m\u001b[1;33m\u001b[0m\u001b[1;33m\u001b[0m\u001b[0m\n\u001b[0;32m    390\u001b[0m                              \u001b[1;34m\"input n_features is %s \"\u001b[0m\u001b[1;33m\u001b[0m\u001b[1;33m\u001b[0m\u001b[0m\n\u001b[1;32m--> 391\u001b[1;33m                              % (self.n_features_, n_features))\n\u001b[0m\u001b[0;32m    392\u001b[0m \u001b[1;33m\u001b[0m\u001b[0m\n\u001b[0;32m    393\u001b[0m         \u001b[1;32mreturn\u001b[0m \u001b[0mX\u001b[0m\u001b[1;33m\u001b[0m\u001b[1;33m\u001b[0m\u001b[0m\n",
      "\u001b[1;31mValueError\u001b[0m: Number of features of the model must match the input. Model n_features is 11 and input n_features is 12 "
     ]
    }
   ],
   "source": [
    "rf.score(X_test, y_test)"
   ]
  },
  {
   "cell_type": "code",
   "execution_count": null,
   "metadata": {},
   "outputs": [],
   "source": []
  }
 ],
 "metadata": {
  "kernelspec": {
   "display_name": "Python 3",
   "language": "python",
   "name": "python3"
  },
  "language_info": {
   "codemirror_mode": {
    "name": "ipython",
    "version": 3
   },
   "file_extension": ".py",
   "mimetype": "text/x-python",
   "name": "python",
   "nbconvert_exporter": "python",
   "pygments_lexer": "ipython3",
   "version": "3.7.1"
  }
 },
 "nbformat": 4,
 "nbformat_minor": 4
}
